{
 "cells": [
  {
   "cell_type": "markdown",
   "id": "b0e9291a-2cb2-4c21-ba31-f362de7f300c",
   "metadata": {
    "editable": false,
    "slideshow": {
     "slide_type": "slide"
    },
    "tags": []
   },
   "source": [
    "## Version 3\n",
    "Okay we need to refactor this whole thing (version 02), to be more maintainable, and prepared for putting into production.\n",
    "Also the devops guys say they are now enforcing pull requests with code quality checking so our code needs to be less \"smelly\" or the pull request won't be accepted. Installing Ruff can help with that apparently.  \n",
    "Also DONT COMMIT DIRECTLY TO MAIN!"
   ]
  },
  {
   "cell_type": "markdown",
   "id": "f05f223c",
   "metadata": {},
   "source": [
    "Add autoreload since we are now modifying scripts in other folders."
   ]
  },
  {
   "cell_type": "code",
   "execution_count": 1,
   "id": "dde9a1d4",
   "metadata": {},
   "outputs": [],
   "source": [
    "%load_ext autoreload\n",
    "%autoreload 2"
   ]
  },
  {
   "cell_type": "markdown",
   "id": "9e74b72a-4dd5-4a2d-8b23-58443dd4c862",
   "metadata": {
    "editable": false,
    "slideshow": {
     "slide_type": "slide"
    },
    "tags": []
   },
   "source": [
    "Getting the data again."
   ]
  },
  {
   "cell_type": "code",
   "execution_count": 2,
   "id": "33798031-5b84-404d-8934-ff0e9d243db4",
   "metadata": {
    "editable": true,
    "slideshow": {
     "slide_type": "subslide"
    },
    "tags": []
   },
   "outputs": [
    {
     "name": "stderr",
     "output_type": "stream",
     "text": [
      "\u001b[32m2025-03-24 21:39:52.673\u001b[0m | \u001b[1mINFO    \u001b[0m | \u001b[36mARISA_DSML.config\u001b[0m:\u001b[36m<module>\u001b[0m:\u001b[36m12\u001b[0m - \u001b[1mPROJ_ROOT path is: C:\\Users\\Kinga\\OneDrive - Wojskowa Akademia Techniczna\\Podyplomowe\\ARISA-ML-OPS\\ARISA-MLOps\u001b[0m\n"
     ]
    }
   ],
   "source": [
    "\n",
    "import sys\n",
    "import os\n",
    "\n",
    "sys.path.append(os.path.abspath(\"..\"))\n",
    "\n",
    "from ARISA_DSML.preproc import get_raw_data\n",
    "from ARISA_DSML.config import RAW_DATA_DIR, target, categorical"
   ]
  },
  {
   "cell_type": "code",
   "execution_count": 3,
   "id": "835577ef",
   "metadata": {},
   "outputs": [],
   "source": [
    "\n",
    "import os\n",
    "from pathlib import Path\n",
    "container_check = os.getenv(\"iscontainer\")\n",
    "if container_check==\"y\":\n",
    "    config_dir = Path(\"/home/vscode/.config/kaggle\")\n",
    "    config_dir.mkdir(parents=True, exist_ok=True)\n",
    "\n",
    "    with open(config_dir / \"kaggle.json\", \"w\") as dst:\n",
    "        with open(\"../kaggle.json\", \"r\") as src:\n",
    "            dst.write(src.read())"
   ]
  },
  {
   "cell_type": "code",
   "execution_count": 4,
   "id": "0a42389d-e7af-4a9c-bf0d-58017bf9688b",
   "metadata": {
    "editable": true,
    "slideshow": {
     "slide_type": "subslide"
    },
    "tags": []
   },
   "outputs": [
    {
     "name": "stderr",
     "output_type": "stream",
     "text": [
      "\u001b[32m2025-03-24 21:39:53.701\u001b[0m | \u001b[1mINFO    \u001b[0m | \u001b[36mARISA_DSML.preproc\u001b[0m:\u001b[36mget_raw_data\u001b[0m:\u001b[36m22\u001b[0m - \u001b[1mRAW_DATA_DIR is: C:\\Users\\Kinga\\OneDrive - Wojskowa Akademia Techniczna\\Podyplomowe\\ARISA-ML-OPS\\ARISA-MLOps\\data\\raw\u001b[0m\n"
     ]
    },
    {
     "name": "stdout",
     "output_type": "stream",
     "text": [
      "Dataset URL: https://www.kaggle.com/datasets/wesleyhowe/titanic-labelled-test-set\n",
      " Volume in drive C is OS\n",
      " Volume Serial Number is 883F-45C6\n",
      "\n",
      " Directory of C:\\Users\\Kinga\\OneDrive - Wojskowa Akademia Techniczna\\Podyplomowe\\ARISA-ML-OPS\\ARISA-MLOps\\data\\raw\n",
      "\n",
      "24.03.2025  21:39    <DIR>          .\n",
      "24.03.2025  19:15    <DIR>          ..\n",
      "24.03.2025  19:14                 0 .gitkeep\n",
      "24.03.2025  21:39             3�258 gender_submission.csv\n",
      "24.03.2025  21:39            28�629 test.csv\n",
      "24.03.2025  21:39            30�234 test_augmented.csv\n",
      "24.03.2025  21:39            61�194 train.csv\n",
      "               5 File(s)        123�315 bytes\n",
      "               2 Dir(s)  174�850�740�224 bytes free\n"
     ]
    }
   ],
   "source": [
    "get_raw_data()\n",
    "!dir \"{RAW_DATA_DIR}\""
   ]
  },
  {
   "cell_type": "markdown",
   "id": "890bca88-b545-4226-ae7f-64b1388190fd",
   "metadata": {
    "editable": false,
    "slideshow": {
     "slide_type": "slide"
    },
    "tags": []
   },
   "source": [
    "Load preproc from preproc.py and run on train data:"
   ]
  },
  {
   "cell_type": "code",
   "execution_count": 5,
   "id": "9b6f248e",
   "metadata": {},
   "outputs": [],
   "source": [
    "from ARISA_DSML.preproc import preprocess_df\n",
    "\n",
    "train_path = preprocess_df(RAW_DATA_DIR / \"train.csv\")"
   ]
  },
  {
   "cell_type": "code",
   "execution_count": 6,
   "id": "dc30e56d",
   "metadata": {},
   "outputs": [
    {
     "data": {
      "text/plain": [
       "WindowsPath('C:/Users/Kinga/OneDrive - Wojskowa Akademia Techniczna/Podyplomowe/ARISA-ML-OPS/ARISA-MLOps/data/processed/train.csv')"
      ]
     },
     "execution_count": 6,
     "metadata": {},
     "output_type": "execute_result"
    }
   ],
   "source": [
    "train_path"
   ]
  },
  {
   "cell_type": "code",
   "execution_count": 7,
   "id": "9fdfb560-31d7-42e8-8f6a-8a1f206bad56",
   "metadata": {
    "editable": true,
    "slideshow": {
     "slide_type": "subslide"
    },
    "tags": []
   },
   "outputs": [
    {
     "data": {
      "text/plain": [
       "array(['Mr', 'Mrs', 'Miss', 'Master', 'Don', 'Rev', 'Dr', 'Mme', 'Ms',\n",
       "       'Major', 'Lady', 'Sir', 'Mlle', 'Col', 'Capt', 'the Countess',\n",
       "       'Jonkheer'], dtype=object)"
      ]
     },
     "execution_count": 7,
     "metadata": {},
     "output_type": "execute_result"
    }
   ],
   "source": [
    "import pandas as pd\n",
    "df_train = pd.read_csv(train_path)\n",
    "df_train[\"Title\"].unique()"
   ]
  },
  {
   "cell_type": "code",
   "execution_count": 8,
   "id": "ff0bf760-97b2-4e78-8eb3-d4e8c118f1fd",
   "metadata": {
    "editable": true,
    "slideshow": {
     "slide_type": "subslide"
    },
    "tags": []
   },
   "outputs": [
    {
     "name": "stdout",
     "output_type": "stream",
     "text": [
      "<class 'pandas.core.frame.DataFrame'>\n",
      "RangeIndex: 891 entries, 0 to 890\n",
      "Data columns (total 12 columns):\n",
      " #   Column       Non-Null Count  Dtype  \n",
      "---  ------       --------------  -----  \n",
      " 0   PassengerId  891 non-null    int64  \n",
      " 1   Survived     891 non-null    int64  \n",
      " 2   Pclass       891 non-null    int64  \n",
      " 3   Sex          891 non-null    object \n",
      " 4   Age          891 non-null    float64\n",
      " 5   SibSp        891 non-null    int64  \n",
      " 6   Parch        891 non-null    int64  \n",
      " 7   Fare         891 non-null    float64\n",
      " 8   Embarked     891 non-null    object \n",
      " 9   Title        891 non-null    object \n",
      " 10  Deck         891 non-null    object \n",
      " 11  CabinNumber  891 non-null    int64  \n",
      "dtypes: float64(2), int64(6), object(4)\n",
      "memory usage: 83.7+ KB\n"
     ]
    }
   ],
   "source": [
    "df_train.info()"
   ]
  },
  {
   "cell_type": "markdown",
   "id": "b2145d99",
   "metadata": {},
   "source": [
    "Split into X and y, get categorical indices:"
   ]
  },
  {
   "cell_type": "code",
   "execution_count": 9,
   "id": "25939d38-d8f1-409d-99a5-5422918d46b6",
   "metadata": {
    "editable": true,
    "slideshow": {
     "slide_type": "subslide"
    },
    "tags": []
   },
   "outputs": [
    {
     "data": {
      "text/plain": [
       "[1, 2, 7, 9, 8]"
      ]
     },
     "execution_count": 9,
     "metadata": {},
     "output_type": "execute_result"
    }
   ],
   "source": [
    "y_train = df_train.pop(target)\n",
    "X_train = df_train\n",
    "\n",
    "categorical_indices = [X_train.columns.get_loc(col) for col in categorical if col in X_train.columns]\n",
    "categorical_indices"
   ]
  },
  {
   "cell_type": "markdown",
   "id": "37229885-44d0-479e-81d0-0dcae5bfd507",
   "metadata": {
    "editable": false,
    "slideshow": {
     "slide_type": "slide"
    },
    "tags": []
   },
   "source": [
    "And run the hyperparameter optimization (if ):"
   ]
  },
  {
   "cell_type": "code",
   "execution_count": 10,
   "id": "4891bf8c-64b0-4735-8d2f-03425d886925",
   "metadata": {
    "editable": true,
    "slideshow": {
     "slide_type": "subslide"
    },
    "tags": []
   },
   "outputs": [
    {
     "name": "stderr",
     "output_type": "stream",
     "text": [
      "\u001b[32m2025-03-24 21:40:44.385\u001b[0m | \u001b[1mINFO    \u001b[0m | \u001b[36mARISA_DSML.train\u001b[0m:\u001b[36mrun_hyperopt\u001b[0m:\u001b[36m72\u001b[0m - \u001b[1mBest Parameters: {'depth': 4, 'learning_rate': 0.18957539727921802, 'iterations': 120, 'l2_leaf_reg': 1.0864007479797192e-05, 'bagging_temperature': 0.737390574446251, 'random_strength': 9.87941178103755}\u001b[0m\n"
     ]
    }
   ],
   "source": [
    "from ARISA_DSML.train import run_hyperopt\n",
    "\n",
    "best_params_path = run_hyperopt(X_train, y_train, categorical_indices)"
   ]
  },
  {
   "cell_type": "markdown",
   "id": "8af73d1c-bb53-47e5-bc84-293972e6837c",
   "metadata": {
    "editable": false,
    "slideshow": {
     "slide_type": "slide"
    },
    "tags": []
   },
   "source": [
    "Do cross validation again:"
   ]
  },
  {
   "cell_type": "code",
   "execution_count": 11,
   "id": "f54fd995-ebc1-4adc-86c9-595fe90243cc",
   "metadata": {
    "editable": true,
    "scrolled": true,
    "slideshow": {
     "slide_type": "subslide"
    },
    "tags": []
   },
   "outputs": [
    {
     "data": {
      "text/plain": [
       "{'depth': 4,\n",
       " 'learning_rate': 0.18957539727921802,\n",
       " 'iterations': 120,\n",
       " 'l2_leaf_reg': 1.0864007479797192e-05,\n",
       " 'bagging_temperature': 0.737390574446251,\n",
       " 'random_strength': 9.87941178103755}"
      ]
     },
     "metadata": {},
     "output_type": "display_data"
    },
    {
     "data": {
      "application/vnd.jupyter.widget-view+json": {
       "model_id": "3175bcd57d584f7b867694df5c8b7c43",
       "version_major": 2,
       "version_minor": 0
      },
      "text/plain": [
       "MetricVisualizer(layout=Layout(align_self='stretch', height='500px'))"
      ]
     },
     "metadata": {},
     "output_type": "display_data"
    },
    {
     "name": "stdout",
     "output_type": "stream",
     "text": [
      "Training on fold [0/5]\n",
      "0:\tlearn: 0.7185841\ttest: 0.7913669\tbest: 0.7913669 (0)\ttotal: 172ms\tremaining: 20.5s\n",
      "1:\tlearn: 0.7208481\ttest: 0.7913669\tbest: 0.7913669 (0)\ttotal: 189ms\tremaining: 11.2s\n",
      "2:\tlearn: 0.7186933\ttest: 0.7794118\tbest: 0.7913669 (0)\ttotal: 203ms\tremaining: 7.9s\n",
      "3:\tlearn: 0.7285714\ttest: 0.7971014\tbest: 0.7971014 (3)\ttotal: 218ms\tremaining: 6.31s\n",
      "4:\tlearn: 0.7302752\ttest: 0.7851852\tbest: 0.7971014 (3)\ttotal: 226ms\tremaining: 5.19s\n",
      "5:\tlearn: 0.7279412\ttest: 0.7851852\tbest: 0.7971014 (3)\ttotal: 242ms\tremaining: 4.6s\n",
      "6:\tlearn: 0.7293233\ttest: 0.7819549\tbest: 0.7971014 (3)\ttotal: 255ms\tremaining: 4.11s\n",
      "7:\tlearn: 0.7316176\ttest: 0.7851852\tbest: 0.7971014 (3)\ttotal: 272ms\tremaining: 3.81s\n",
      "8:\tlearn: 0.7339450\ttest: 0.7851852\tbest: 0.7971014 (3)\ttotal: 284ms\tremaining: 3.51s\n",
      "9:\tlearn: 0.7422303\ttest: 0.7851852\tbest: 0.7971014 (3)\ttotal: 301ms\tremaining: 3.31s\n",
      "10:\tlearn: 0.7384045\ttest: 0.7851852\tbest: 0.7971014 (3)\ttotal: 317ms\tremaining: 3.14s\n",
      "11:\tlearn: 0.7397770\ttest: 0.7851852\tbest: 0.7971014 (3)\ttotal: 333ms\tremaining: 3s\n",
      "12:\tlearn: 0.7397770\ttest: 0.7851852\tbest: 0.7971014 (3)\ttotal: 338ms\tremaining: 2.79s\n",
      "13:\tlearn: 0.7397770\ttest: 0.7851852\tbest: 0.7971014 (3)\ttotal: 354ms\tremaining: 2.68s\n",
      "14:\tlearn: 0.7421150\ttest: 0.7851852\tbest: 0.7971014 (3)\ttotal: 373ms\tremaining: 2.61s\n",
      "15:\tlearn: 0.7421150\ttest: 0.7851852\tbest: 0.7971014 (3)\ttotal: 389ms\tremaining: 2.53s\n",
      "16:\tlearn: 0.7434944\ttest: 0.7851852\tbest: 0.7971014 (3)\ttotal: 408ms\tremaining: 2.47s\n",
      "17:\tlearn: 0.7421150\ttest: 0.7851852\tbest: 0.7971014 (3)\ttotal: 426ms\tremaining: 2.42s\n",
      "18:\tlearn: 0.7472119\ttest: 0.7851852\tbest: 0.7971014 (3)\ttotal: 443ms\tremaining: 2.35s\n",
      "19:\tlearn: 0.7472119\ttest: 0.7941176\tbest: 0.7971014 (3)\ttotal: 455ms\tremaining: 2.27s\n",
      "20:\tlearn: 0.7509434\ttest: 0.8059701\tbest: 0.8059701 (20)\ttotal: 471ms\tremaining: 2.22s\n",
      "21:\tlearn: 0.7523629\ttest: 0.8059701\tbest: 0.8059701 (20)\ttotal: 488ms\tremaining: 2.17s\n",
      "22:\tlearn: 0.7523629\ttest: 0.8059701\tbest: 0.8059701 (20)\ttotal: 493ms\tremaining: 2.08s\n",
      "23:\tlearn: 0.7547170\ttest: 0.8120301\tbest: 0.8120301 (23)\ttotal: 509ms\tremaining: 2.04s\n",
      "24:\tlearn: 0.7584906\ttest: 0.8120301\tbest: 0.8120301 (23)\ttotal: 524ms\tremaining: 1.99s\n",
      "25:\tlearn: 0.7593985\ttest: 0.8120301\tbest: 0.8120301 (23)\ttotal: 539ms\tremaining: 1.95s\n",
      "26:\tlearn: 0.7590133\ttest: 0.8120301\tbest: 0.8120301 (23)\ttotal: 557ms\tremaining: 1.92s\n",
      "27:\tlearn: 0.7590133\ttest: 0.8120301\tbest: 0.8120301 (23)\ttotal: 574ms\tremaining: 1.88s\n",
      "28:\tlearn: 0.7575758\ttest: 0.8059701\tbest: 0.8120301 (23)\ttotal: 582ms\tremaining: 1.83s\n",
      "29:\tlearn: 0.7689394\ttest: 0.8270677\tbest: 0.8270677 (29)\ttotal: 599ms\tremaining: 1.8s\n",
      "30:\tlearn: 0.7660377\ttest: 0.8270677\tbest: 0.8270677 (29)\ttotal: 612ms\tremaining: 1.76s\n",
      "31:\tlearn: 0.7677903\ttest: 0.8270677\tbest: 0.8270677 (29)\ttotal: 623ms\tremaining: 1.71s\n",
      "32:\tlearn: 0.7738318\ttest: 0.8208955\tbest: 0.8270677 (29)\ttotal: 638ms\tremaining: 1.68s\n",
      "33:\tlearn: 0.7692308\ttest: 0.8208955\tbest: 0.8270677 (29)\ttotal: 649ms\tremaining: 1.64s\n",
      "34:\tlearn: 0.7692308\ttest: 0.8208955\tbest: 0.8270677 (29)\ttotal: 655ms\tremaining: 1.59s\n",
      "35:\tlearn: 0.7735849\ttest: 0.8088235\tbest: 0.8270677 (29)\ttotal: 670ms\tremaining: 1.56s\n",
      "36:\tlearn: 0.7842402\ttest: 0.8088235\tbest: 0.8270677 (29)\ttotal: 686ms\tremaining: 1.54s\n",
      "37:\tlearn: 0.7865169\ttest: 0.8088235\tbest: 0.8270677 (29)\ttotal: 702ms\tremaining: 1.51s\n",
      "38:\tlearn: 0.7850467\ttest: 0.8088235\tbest: 0.8270677 (29)\ttotal: 717ms\tremaining: 1.49s\n",
      "39:\tlearn: 0.7850467\ttest: 0.8088235\tbest: 0.8270677 (29)\ttotal: 726ms\tremaining: 1.45s\n",
      "40:\tlearn: 0.7850467\ttest: 0.8088235\tbest: 0.8270677 (29)\ttotal: 733ms\tremaining: 1.41s\n",
      "41:\tlearn: 0.7842402\ttest: 0.8088235\tbest: 0.8270677 (29)\ttotal: 748ms\tremaining: 1.39s\n",
      "42:\tlearn: 0.7842402\ttest: 0.8088235\tbest: 0.8270677 (29)\ttotal: 765ms\tremaining: 1.37s\n",
      "43:\tlearn: 0.7849057\ttest: 0.8148148\tbest: 0.8270677 (29)\ttotal: 783ms\tremaining: 1.35s\n",
      "44:\tlearn: 0.7857143\ttest: 0.8148148\tbest: 0.8270677 (29)\ttotal: 801ms\tremaining: 1.33s\n",
      "45:\tlearn: 0.7857143\ttest: 0.8148148\tbest: 0.8270677 (29)\ttotal: 817ms\tremaining: 1.31s\n",
      "46:\tlearn: 0.7871940\ttest: 0.8148148\tbest: 0.8270677 (29)\ttotal: 833ms\tremaining: 1.29s\n",
      "47:\tlearn: 0.7878788\ttest: 0.8148148\tbest: 0.8270677 (29)\ttotal: 838ms\tremaining: 1.26s\n",
      "48:\tlearn: 0.7931689\ttest: 0.8148148\tbest: 0.8270677 (29)\ttotal: 852ms\tremaining: 1.23s\n",
      "49:\tlearn: 0.7931689\ttest: 0.8148148\tbest: 0.8270677 (29)\ttotal: 860ms\tremaining: 1.2s\n",
      "50:\tlearn: 0.7992352\ttest: 0.8208955\tbest: 0.8270677 (29)\ttotal: 878ms\tremaining: 1.19s\n",
      "51:\tlearn: 0.7992352\ttest: 0.8208955\tbest: 0.8270677 (29)\ttotal: 896ms\tremaining: 1.17s\n",
      "52:\tlearn: 0.8007663\ttest: 0.8059701\tbest: 0.8270677 (29)\ttotal: 911ms\tremaining: 1.15s\n",
      "53:\tlearn: 0.8030593\ttest: 0.8059701\tbest: 0.8270677 (29)\ttotal: 921ms\tremaining: 1.13s\n",
      "54:\tlearn: 0.8030593\ttest: 0.8059701\tbest: 0.8270677 (29)\ttotal: 936ms\tremaining: 1.11s\n",
      "55:\tlearn: 0.8068834\ttest: 0.8059701\tbest: 0.8270677 (29)\ttotal: 952ms\tremaining: 1.09s\n",
      "56:\tlearn: 0.8068834\ttest: 0.8059701\tbest: 0.8270677 (29)\ttotal: 969ms\tremaining: 1.07s\n",
      "57:\tlearn: 0.8204159\ttest: 0.7969925\tbest: 0.8270677 (29)\ttotal: 984ms\tremaining: 1.05s\n",
      "58:\tlearn: 0.8204159\ttest: 0.7969925\tbest: 0.8270677 (29)\ttotal: 997ms\tremaining: 1.03s\n",
      "59:\tlearn: 0.8212928\ttest: 0.8030303\tbest: 0.8270677 (29)\ttotal: 1.01s\tremaining: 1.01s\n",
      "60:\tlearn: 0.8235294\ttest: 0.8030303\tbest: 0.8270677 (29)\ttotal: 1.03s\tremaining: 994ms\n",
      "61:\tlearn: 0.8355388\ttest: 0.8120301\tbest: 0.8270677 (29)\ttotal: 1.04s\tremaining: 977ms\n",
      "62:\tlearn: 0.8441065\ttest: 0.8244275\tbest: 0.8270677 (29)\ttotal: 1.06s\tremaining: 959ms\n",
      "63:\tlearn: 0.8423077\ttest: 0.8244275\tbest: 0.8270677 (29)\ttotal: 1.07s\tremaining: 940ms\n",
      "64:\tlearn: 0.8451243\ttest: 0.8244275\tbest: 0.8270677 (29)\ttotal: 1.09s\tremaining: 923ms\n",
      "65:\tlearn: 0.8451243\ttest: 0.8333333\tbest: 0.8333333 (65)\ttotal: 1.1s\tremaining: 904ms\n",
      "66:\tlearn: 0.8505747\ttest: 0.8333333\tbest: 0.8333333 (65)\ttotal: 1.12s\tremaining: 886ms\n",
      "67:\tlearn: 0.8467433\ttest: 0.8396947\tbest: 0.8396947 (67)\ttotal: 1.14s\tremaining: 870ms\n",
      "68:\tlearn: 0.8549618\ttest: 0.8396947\tbest: 0.8396947 (67)\ttotal: 1.15s\tremaining: 852ms\n",
      "69:\tlearn: 0.8659004\ttest: 0.8396947\tbest: 0.8396947 (67)\ttotal: 1.17s\tremaining: 834ms\n",
      "70:\tlearn: 0.8615385\ttest: 0.8217054\tbest: 0.8396947 (67)\ttotal: 1.18s\tremaining: 816ms\n",
      "71:\tlearn: 0.8631985\ttest: 0.8217054\tbest: 0.8396947 (67)\ttotal: 1.2s\tremaining: 798ms\n",
      "72:\tlearn: 0.8653846\ttest: 0.8217054\tbest: 0.8396947 (67)\ttotal: 1.21s\tremaining: 781ms\n",
      "73:\tlearn: 0.8697318\ttest: 0.8217054\tbest: 0.8396947 (67)\ttotal: 1.23s\tremaining: 764ms\n",
      "74:\tlearn: 0.8697318\ttest: 0.8217054\tbest: 0.8396947 (67)\ttotal: 1.24s\tremaining: 746ms\n",
      "75:\tlearn: 0.8697318\ttest: 0.8217054\tbest: 0.8396947 (67)\ttotal: 1.26s\tremaining: 729ms\n",
      "76:\tlearn: 0.8735632\ttest: 0.8217054\tbest: 0.8396947 (67)\ttotal: 1.27s\tremaining: 711ms\n",
      "77:\tlearn: 0.8735632\ttest: 0.8125000\tbest: 0.8396947 (67)\ttotal: 1.29s\tremaining: 694ms\n",
      "78:\tlearn: 0.8697318\ttest: 0.8062016\tbest: 0.8396947 (67)\ttotal: 1.3s\tremaining: 676ms\n",
      "79:\tlearn: 0.8825758\ttest: 0.8091603\tbest: 0.8396947 (67)\ttotal: 1.32s\tremaining: 660ms\n",
      "80:\tlearn: 0.8846881\ttest: 0.8181818\tbest: 0.8396947 (67)\ttotal: 1.33s\tremaining: 642ms\n",
      "81:\tlearn: 0.8884688\ttest: 0.8091603\tbest: 0.8396947 (67)\ttotal: 1.35s\tremaining: 624ms\n",
      "82:\tlearn: 0.8880455\ttest: 0.8000000\tbest: 0.8396947 (67)\ttotal: 1.36s\tremaining: 607ms\n",
      "83:\tlearn: 0.8880455\ttest: 0.8000000\tbest: 0.8396947 (67)\ttotal: 1.38s\tremaining: 591ms\n",
      "84:\tlearn: 0.8880455\ttest: 0.8000000\tbest: 0.8396947 (67)\ttotal: 1.4s\tremaining: 575ms\n",
      "85:\tlearn: 0.8914286\ttest: 0.8062016\tbest: 0.8396947 (67)\ttotal: 1.41s\tremaining: 557ms\n",
      "86:\tlearn: 0.8935361\ttest: 0.8062016\tbest: 0.8396947 (67)\ttotal: 1.42s\tremaining: 540ms\n",
      "87:\tlearn: 0.8956357\ttest: 0.7878788\tbest: 0.8396947 (67)\ttotal: 1.44s\tremaining: 524ms\n",
      "88:\tlearn: 0.8956357\ttest: 0.7878788\tbest: 0.8396947 (67)\ttotal: 1.46s\tremaining: 508ms\n",
      "89:\tlearn: 0.8998110\ttest: 0.7878788\tbest: 0.8396947 (67)\ttotal: 1.47s\tremaining: 491ms\n",
      "90:\tlearn: 0.8994307\ttest: 0.7878788\tbest: 0.8396947 (67)\ttotal: 1.49s\tremaining: 474ms\n",
      "91:\tlearn: 0.8994307\ttest: 0.7878788\tbest: 0.8396947 (67)\ttotal: 1.5s\tremaining: 457ms\n",
      "92:\tlearn: 0.8994307\ttest: 0.7878788\tbest: 0.8396947 (67)\ttotal: 1.52s\tremaining: 441ms\n",
      "93:\tlearn: 0.8994307\ttest: 0.7878788\tbest: 0.8396947 (67)\ttotal: 1.53s\tremaining: 424ms\n",
      "94:\tlearn: 0.9011407\ttest: 0.7878788\tbest: 0.8396947 (67)\ttotal: 1.55s\tremaining: 407ms\n",
      "95:\tlearn: 0.9032258\ttest: 0.7878788\tbest: 0.8396947 (67)\ttotal: 1.56s\tremaining: 391ms\n",
      "96:\tlearn: 0.9032258\ttest: 0.7878788\tbest: 0.8396947 (67)\ttotal: 1.58s\tremaining: 374ms\n",
      "97:\tlearn: 0.9011407\ttest: 0.7878788\tbest: 0.8396947 (67)\ttotal: 1.59s\tremaining: 358ms\n",
      "98:\tlearn: 0.9011407\ttest: 0.7878788\tbest: 0.8396947 (67)\ttotal: 1.61s\tremaining: 341ms\n",
      "99:\tlearn: 0.9011407\ttest: 0.7878788\tbest: 0.8396947 (67)\ttotal: 1.62s\tremaining: 325ms\n",
      "100:\tlearn: 0.9032258\ttest: 0.7692308\tbest: 0.8396947 (67)\ttotal: 1.64s\tremaining: 308ms\n",
      "101:\tlearn: 0.9073724\ttest: 0.7692308\tbest: 0.8396947 (67)\ttotal: 1.65s\tremaining: 292ms\n",
      "102:\tlearn: 0.9073724\ttest: 0.7692308\tbest: 0.8396947 (67)\ttotal: 1.67s\tremaining: 275ms\n",
      "103:\tlearn: 0.9094340\ttest: 0.7633588\tbest: 0.8396947 (67)\ttotal: 1.68s\tremaining: 259ms\n",
      "104:\tlearn: 0.9094340\ttest: 0.7633588\tbest: 0.8396947 (67)\ttotal: 1.7s\tremaining: 243ms\n",
      "105:\tlearn: 0.9094340\ttest: 0.7846154\tbest: 0.8396947 (67)\ttotal: 1.72s\tremaining: 227ms\n",
      "106:\tlearn: 0.9111531\ttest: 0.7846154\tbest: 0.8396947 (67)\ttotal: 1.73s\tremaining: 210ms\n",
      "107:\tlearn: 0.9152542\ttest: 0.7846154\tbest: 0.8396947 (67)\ttotal: 1.75s\tremaining: 194ms\n",
      "108:\tlearn: 0.9152542\ttest: 0.7846154\tbest: 0.8396947 (67)\ttotal: 1.76s\tremaining: 178ms\n",
      "109:\tlearn: 0.9169811\ttest: 0.7812500\tbest: 0.8396947 (67)\ttotal: 1.78s\tremaining: 162ms\n",
      "110:\tlearn: 0.9187146\ttest: 0.7812500\tbest: 0.8396947 (67)\ttotal: 1.79s\tremaining: 145ms\n",
      "111:\tlearn: 0.9187146\ttest: 0.7692308\tbest: 0.8396947 (67)\ttotal: 1.81s\tremaining: 129ms\n",
      "112:\tlearn: 0.9187146\ttest: 0.7751938\tbest: 0.8396947 (67)\ttotal: 1.83s\tremaining: 113ms\n",
      "113:\tlearn: 0.9187146\ttest: 0.7692308\tbest: 0.8396947 (67)\ttotal: 1.84s\tremaining: 97ms\n",
      "114:\tlearn: 0.9210526\ttest: 0.7786260\tbest: 0.8396947 (67)\ttotal: 1.86s\tremaining: 80.8ms\n",
      "115:\tlearn: 0.9210526\ttest: 0.7846154\tbest: 0.8396947 (67)\ttotal: 1.87s\tremaining: 64.6ms\n",
      "116:\tlearn: 0.9210526\ttest: 0.7846154\tbest: 0.8396947 (67)\ttotal: 1.89s\tremaining: 48.4ms\n",
      "117:\tlearn: 0.9193246\ttest: 0.7751938\tbest: 0.8396947 (67)\ttotal: 1.9s\tremaining: 32.3ms\n",
      "118:\tlearn: 0.9227872\ttest: 0.7751938\tbest: 0.8396947 (67)\ttotal: 1.92s\tremaining: 16.1ms\n",
      "119:\tlearn: 0.9227872\ttest: 0.7751938\tbest: 0.8396947 (67)\ttotal: 1.93s\tremaining: 0us\n",
      "\n",
      "bestTest = 0.8396946565\n",
      "bestIteration = 67\n",
      "\n",
      "Training on fold [1/5]\n",
      "0:\tlearn: 0.7508897\ttest: 0.6760563\tbest: 0.6760563 (0)\ttotal: 21.5ms\tremaining: 2.56s\n",
      "1:\tlearn: 0.7531083\ttest: 0.6760563\tbest: 0.6760563 (0)\ttotal: 38.7ms\tremaining: 2.28s\n",
      "2:\tlearn: 0.7531083\ttest: 0.6760563\tbest: 0.6760563 (0)\ttotal: 51.8ms\tremaining: 2.02s\n",
      "3:\tlearn: 0.7553191\ttest: 0.6760563\tbest: 0.6760563 (0)\ttotal: 67ms\tremaining: 1.94s\n",
      "4:\tlearn: 0.7783985\ttest: 0.7067669\tbest: 0.7067669 (4)\ttotal: 84.1ms\tremaining: 1.93s\n",
      "5:\tlearn: 0.7829314\ttest: 0.7067669\tbest: 0.7067669 (4)\ttotal: 99.3ms\tremaining: 1.89s\n",
      "6:\tlearn: 0.7835821\ttest: 0.7067669\tbest: 0.7067669 (4)\ttotal: 115ms\tremaining: 1.85s\n",
      "7:\tlearn: 0.7790262\ttest: 0.6923077\tbest: 0.7067669 (4)\ttotal: 123ms\tremaining: 1.72s\n",
      "8:\tlearn: 0.7835821\ttest: 0.7067669\tbest: 0.7067669 (4)\ttotal: 138ms\tremaining: 1.71s\n",
      "9:\tlearn: 0.7813084\ttest: 0.7067669\tbest: 0.7067669 (4)\ttotal: 155ms\tremaining: 1.7s\n",
      "10:\tlearn: 0.7790262\ttest: 0.6923077\tbest: 0.7067669 (4)\ttotal: 171ms\tremaining: 1.69s\n",
      "11:\tlearn: 0.7790262\ttest: 0.6923077\tbest: 0.7067669 (4)\ttotal: 187ms\tremaining: 1.68s\n",
      "12:\tlearn: 0.7850467\ttest: 0.7067669\tbest: 0.7067669 (4)\ttotal: 201ms\tremaining: 1.66s\n",
      "13:\tlearn: 0.7850467\ttest: 0.7067669\tbest: 0.7067669 (4)\ttotal: 206ms\tremaining: 1.56s\n",
      "14:\tlearn: 0.7879925\ttest: 0.7067669\tbest: 0.7067669 (4)\ttotal: 221ms\tremaining: 1.55s\n",
      "15:\tlearn: 0.7894737\ttest: 0.7121212\tbest: 0.7121212 (15)\ttotal: 237ms\tremaining: 1.54s\n",
      "16:\tlearn: 0.7894737\ttest: 0.7121212\tbest: 0.7121212 (15)\ttotal: 254ms\tremaining: 1.54s\n",
      "17:\tlearn: 0.7879925\ttest: 0.7121212\tbest: 0.7121212 (15)\ttotal: 266ms\tremaining: 1.51s\n",
      "18:\tlearn: 0.7925234\ttest: 0.7067669\tbest: 0.7121212 (15)\ttotal: 277ms\tremaining: 1.47s\n",
      "19:\tlearn: 0.7940075\ttest: 0.7067669\tbest: 0.7121212 (15)\ttotal: 294ms\tremaining: 1.47s\n",
      "20:\tlearn: 0.7962617\ttest: 0.7218045\tbest: 0.7218045 (20)\ttotal: 305ms\tremaining: 1.44s\n",
      "21:\tlearn: 0.7962617\ttest: 0.7218045\tbest: 0.7218045 (20)\ttotal: 310ms\tremaining: 1.38s\n",
      "22:\tlearn: 0.7962617\ttest: 0.7218045\tbest: 0.7218045 (20)\ttotal: 322ms\tremaining: 1.36s\n",
      "23:\tlearn: 0.7962617\ttest: 0.7218045\tbest: 0.7218045 (20)\ttotal: 337ms\tremaining: 1.35s\n",
      "24:\tlearn: 0.7977528\ttest: 0.7164179\tbest: 0.7218045 (20)\ttotal: 355ms\tremaining: 1.35s\n",
      "25:\tlearn: 0.7977528\ttest: 0.7218045\tbest: 0.7218045 (20)\ttotal: 370ms\tremaining: 1.34s\n",
      "26:\tlearn: 0.7962617\ttest: 0.7218045\tbest: 0.7218045 (20)\ttotal: 379ms\tremaining: 1.31s\n",
      "27:\tlearn: 0.8037383\ttest: 0.7067669\tbest: 0.7218045 (20)\ttotal: 395ms\tremaining: 1.3s\n",
      "28:\tlearn: 0.8014981\ttest: 0.7067669\tbest: 0.7218045 (20)\ttotal: 413ms\tremaining: 1.29s\n",
      "29:\tlearn: 0.8014981\ttest: 0.7164179\tbest: 0.7218045 (20)\ttotal: 430ms\tremaining: 1.29s\n",
      "30:\tlearn: 0.8014981\ttest: 0.7164179\tbest: 0.7218045 (20)\ttotal: 449ms\tremaining: 1.29s\n",
      "31:\tlearn: 0.8007519\ttest: 0.7121212\tbest: 0.7218045 (20)\ttotal: 464ms\tremaining: 1.27s\n",
      "32:\tlearn: 0.7992495\ttest: 0.7121212\tbest: 0.7218045 (20)\ttotal: 475ms\tremaining: 1.25s\n",
      "33:\tlearn: 0.7992495\ttest: 0.7121212\tbest: 0.7218045 (20)\ttotal: 491ms\tremaining: 1.24s\n",
      "34:\tlearn: 0.8030019\ttest: 0.7121212\tbest: 0.7218045 (20)\ttotal: 507ms\tremaining: 1.23s\n",
      "35:\tlearn: 0.8060264\ttest: 0.7121212\tbest: 0.7218045 (20)\ttotal: 522ms\tremaining: 1.22s\n",
      "36:\tlearn: 0.8060264\ttest: 0.7121212\tbest: 0.7218045 (20)\ttotal: 527ms\tremaining: 1.18s\n",
      "37:\tlearn: 0.8075472\ttest: 0.7022901\tbest: 0.7218045 (20)\ttotal: 542ms\tremaining: 1.17s\n",
      "38:\tlearn: 0.8075472\ttest: 0.6969697\tbest: 0.7218045 (20)\ttotal: 557ms\tremaining: 1.16s\n",
      "39:\tlearn: 0.8075472\ttest: 0.6969697\tbest: 0.7218045 (20)\ttotal: 573ms\tremaining: 1.15s\n",
      "40:\tlearn: 0.8082707\ttest: 0.6969697\tbest: 0.7218045 (20)\ttotal: 589ms\tremaining: 1.14s\n",
      "41:\tlearn: 0.8097928\ttest: 0.6969697\tbest: 0.7218045 (20)\ttotal: 605ms\tremaining: 1.12s\n",
      "42:\tlearn: 0.8113208\ttest: 0.6969697\tbest: 0.7218045 (20)\ttotal: 623ms\tremaining: 1.11s\n",
      "43:\tlearn: 0.8228571\ttest: 0.6969697\tbest: 0.7218045 (20)\ttotal: 641ms\tremaining: 1.11s\n",
      "44:\tlearn: 0.8183556\ttest: 0.6969697\tbest: 0.7218045 (20)\ttotal: 654ms\tremaining: 1.09s\n",
      "45:\tlearn: 0.8183556\ttest: 0.6969697\tbest: 0.7218045 (20)\ttotal: 662ms\tremaining: 1.06s\n",
      "46:\tlearn: 0.8167939\ttest: 0.6969697\tbest: 0.7218045 (20)\ttotal: 676ms\tremaining: 1.05s\n",
      "47:\tlearn: 0.8183556\ttest: 0.7022901\tbest: 0.7218045 (20)\ttotal: 691ms\tremaining: 1.03s\n",
      "48:\tlearn: 0.8206107\ttest: 0.7022901\tbest: 0.7218045 (20)\ttotal: 706ms\tremaining: 1.02s\n",
      "49:\tlearn: 0.8250951\ttest: 0.6969697\tbest: 0.7218045 (20)\ttotal: 722ms\tremaining: 1.01s\n",
      "50:\tlearn: 0.8250951\ttest: 0.6969697\tbest: 0.7218045 (20)\ttotal: 730ms\tremaining: 988ms\n",
      "51:\tlearn: 0.8288973\ttest: 0.6969697\tbest: 0.7218045 (20)\ttotal: 746ms\tremaining: 975ms\n",
      "52:\tlearn: 0.8358779\ttest: 0.6870229\tbest: 0.7218045 (20)\ttotal: 761ms\tremaining: 962ms\n",
      "53:\tlearn: 0.8333333\ttest: 0.6870229\tbest: 0.7218045 (20)\ttotal: 778ms\tremaining: 951ms\n",
      "54:\tlearn: 0.8365019\ttest: 0.6969697\tbest: 0.7218045 (20)\ttotal: 794ms\tremaining: 938ms\n",
      "55:\tlearn: 0.8409091\ttest: 0.6969697\tbest: 0.7218045 (20)\ttotal: 810ms\tremaining: 926ms\n",
      "56:\tlearn: 0.8421053\ttest: 0.6969697\tbest: 0.7218045 (20)\ttotal: 826ms\tremaining: 913ms\n",
      "57:\tlearn: 0.8473282\ttest: 0.6969697\tbest: 0.7218045 (20)\ttotal: 845ms\tremaining: 903ms\n",
      "58:\tlearn: 0.8468809\ttest: 0.6870229\tbest: 0.7218045 (20)\ttotal: 861ms\tremaining: 890ms\n",
      "59:\tlearn: 0.8528302\ttest: 0.6818182\tbest: 0.7218045 (20)\ttotal: 879ms\tremaining: 879ms\n",
      "60:\tlearn: 0.8533835\ttest: 0.6818182\tbest: 0.7218045 (20)\ttotal: 894ms\tremaining: 865ms\n",
      "61:\tlearn: 0.8566038\ttest: 0.6818182\tbest: 0.7218045 (20)\ttotal: 912ms\tremaining: 853ms\n",
      "62:\tlearn: 0.8566038\ttest: 0.6818182\tbest: 0.7218045 (20)\ttotal: 927ms\tremaining: 839ms\n",
      "63:\tlearn: 0.8641509\ttest: 0.6818182\tbest: 0.7218045 (20)\ttotal: 943ms\tremaining: 825ms\n",
      "64:\tlearn: 0.8625235\ttest: 0.6818182\tbest: 0.7218045 (20)\ttotal: 959ms\tremaining: 811ms\n",
      "65:\tlearn: 0.8689139\ttest: 0.6818182\tbest: 0.7218045 (20)\ttotal: 974ms\tremaining: 797ms\n",
      "66:\tlearn: 0.8705441\ttest: 0.6818182\tbest: 0.7218045 (20)\ttotal: 989ms\tremaining: 783ms\n",
      "67:\tlearn: 0.8705441\ttest: 0.6818182\tbest: 0.7218045 (20)\ttotal: 1s\tremaining: 769ms\n",
      "68:\tlearn: 0.8705441\ttest: 0.6818182\tbest: 0.7218045 (20)\ttotal: 1.02s\tremaining: 754ms\n",
      "69:\tlearn: 0.8816794\ttest: 0.6818182\tbest: 0.7218045 (20)\ttotal: 1.03s\tremaining: 739ms\n",
      "70:\tlearn: 0.8816794\ttest: 0.7014925\tbest: 0.7218045 (20)\ttotal: 1.05s\tremaining: 724ms\n",
      "71:\tlearn: 0.8838095\ttest: 0.7014925\tbest: 0.7218045 (20)\ttotal: 1.07s\tremaining: 713ms\n",
      "72:\tlearn: 0.8854962\ttest: 0.7014925\tbest: 0.7218045 (20)\ttotal: 1.08s\tremaining: 699ms\n",
      "73:\tlearn: 0.8812261\ttest: 0.7014925\tbest: 0.7218045 (20)\ttotal: 1.1s\tremaining: 685ms\n",
      "74:\tlearn: 0.8846154\ttest: 0.7014925\tbest: 0.7218045 (20)\ttotal: 1.12s\tremaining: 670ms\n",
      "75:\tlearn: 0.8910134\ttest: 0.6911765\tbest: 0.7218045 (20)\ttotal: 1.13s\tremaining: 655ms\n",
      "76:\tlearn: 0.8905950\ttest: 0.6962963\tbest: 0.7218045 (20)\ttotal: 1.15s\tremaining: 642ms\n",
      "77:\tlearn: 0.8961538\ttest: 0.6814815\tbest: 0.7218045 (20)\ttotal: 1.16s\tremaining: 627ms\n",
      "78:\tlearn: 0.8986616\ttest: 0.6911765\tbest: 0.7218045 (20)\ttotal: 1.18s\tremaining: 613ms\n",
      "79:\tlearn: 0.9003831\ttest: 0.6865672\tbest: 0.7218045 (20)\ttotal: 1.2s\tremaining: 599ms\n",
      "80:\tlearn: 0.9063098\ttest: 0.6865672\tbest: 0.7218045 (20)\ttotal: 1.22s\tremaining: 586ms\n",
      "81:\tlearn: 0.9063098\ttest: 0.6962963\tbest: 0.7218045 (20)\ttotal: 1.23s\tremaining: 571ms\n",
      "82:\tlearn: 0.9063098\ttest: 0.6911765\tbest: 0.7218045 (20)\ttotal: 1.25s\tremaining: 556ms\n",
      "83:\tlearn: 0.9169811\ttest: 0.6811594\tbest: 0.7218045 (20)\ttotal: 1.26s\tremaining: 543ms\n",
      "84:\tlearn: 0.9169811\ttest: 0.6811594\tbest: 0.7218045 (20)\ttotal: 1.28s\tremaining: 528ms\n",
      "85:\tlearn: 0.9169811\ttest: 0.6811594\tbest: 0.7218045 (20)\ttotal: 1.3s\tremaining: 513ms\n",
      "86:\tlearn: 0.9190207\ttest: 0.6811594\tbest: 0.7218045 (20)\ttotal: 1.31s\tremaining: 498ms\n",
      "87:\tlearn: 0.9190207\ttest: 0.6715328\tbest: 0.7218045 (20)\ttotal: 1.33s\tremaining: 483ms\n",
      "88:\tlearn: 0.9172932\ttest: 0.6518519\tbest: 0.7218045 (20)\ttotal: 1.34s\tremaining: 469ms\n",
      "89:\tlearn: 0.9172932\ttest: 0.6518519\tbest: 0.7218045 (20)\ttotal: 1.36s\tremaining: 454ms\n",
      "90:\tlearn: 0.9172932\ttest: 0.6518519\tbest: 0.7218045 (20)\ttotal: 1.38s\tremaining: 439ms\n",
      "91:\tlearn: 0.9190207\ttest: 0.6616541\tbest: 0.7218045 (20)\ttotal: 1.39s\tremaining: 424ms\n",
      "92:\tlearn: 0.9207547\ttest: 0.6766917\tbest: 0.7218045 (20)\ttotal: 1.41s\tremaining: 409ms\n",
      "93:\tlearn: 0.9248120\ttest: 0.6766917\tbest: 0.7218045 (20)\ttotal: 1.43s\tremaining: 394ms\n",
      "94:\tlearn: 0.9248120\ttest: 0.6766917\tbest: 0.7218045 (20)\ttotal: 1.44s\tremaining: 379ms\n",
      "95:\tlearn: 0.9268293\ttest: 0.6766917\tbest: 0.7218045 (20)\ttotal: 1.46s\tremaining: 364ms\n",
      "96:\tlearn: 0.9268293\ttest: 0.6962963\tbest: 0.7218045 (20)\ttotal: 1.48s\tremaining: 350ms\n",
      "97:\tlearn: 0.9248120\ttest: 0.6716418\tbest: 0.7218045 (20)\ttotal: 1.49s\tremaining: 335ms\n",
      "98:\tlearn: 0.9268293\ttest: 0.6616541\tbest: 0.7218045 (20)\ttotal: 1.5s\tremaining: 319ms\n",
      "99:\tlearn: 0.9288390\ttest: 0.6515152\tbest: 0.7218045 (20)\ttotal: 1.52s\tremaining: 304ms\n",
      "100:\tlearn: 0.9288390\ttest: 0.6616541\tbest: 0.7218045 (20)\ttotal: 1.53s\tremaining: 289ms\n",
      "101:\tlearn: 0.9288390\ttest: 0.6412214\tbest: 0.7218045 (20)\ttotal: 1.55s\tremaining: 273ms\n",
      "102:\tlearn: 0.9323308\ttest: 0.6666667\tbest: 0.7218045 (20)\ttotal: 1.56s\tremaining: 258ms\n",
      "103:\tlearn: 0.9305816\ttest: 0.6666667\tbest: 0.7218045 (20)\ttotal: 1.58s\tremaining: 243ms\n",
      "104:\tlearn: 0.9323308\ttest: 0.6717557\tbest: 0.7218045 (20)\ttotal: 1.59s\tremaining: 228ms\n",
      "105:\tlearn: 0.9323308\ttest: 0.6717557\tbest: 0.7218045 (20)\ttotal: 1.61s\tremaining: 213ms\n",
      "106:\tlearn: 0.9338374\ttest: 0.6717557\tbest: 0.7218045 (20)\ttotal: 1.63s\tremaining: 198ms\n",
      "107:\tlearn: 0.9376181\ttest: 0.6717557\tbest: 0.7218045 (20)\ttotal: 1.64s\tremaining: 182ms\n",
      "108:\tlearn: 0.9358491\ttest: 0.6717557\tbest: 0.7218045 (20)\ttotal: 1.66s\tremaining: 167ms\n",
      "109:\tlearn: 0.9393939\ttest: 0.6717557\tbest: 0.7218045 (20)\ttotal: 1.67s\tremaining: 152ms\n",
      "110:\tlearn: 0.9411765\ttest: 0.6717557\tbest: 0.7218045 (20)\ttotal: 1.69s\tremaining: 137ms\n",
      "111:\tlearn: 0.9393939\ttest: 0.6717557\tbest: 0.7218045 (20)\ttotal: 1.7s\tremaining: 122ms\n",
      "112:\tlearn: 0.9376181\ttest: 0.6717557\tbest: 0.7218045 (20)\ttotal: 1.72s\tremaining: 106ms\n",
      "113:\tlearn: 0.9376181\ttest: 0.6717557\tbest: 0.7218045 (20)\ttotal: 1.73s\tremaining: 91.2ms\n",
      "114:\tlearn: 0.9376181\ttest: 0.6615385\tbest: 0.7218045 (20)\ttotal: 1.75s\tremaining: 76ms\n",
      "115:\tlearn: 0.9376181\ttest: 0.6769231\tbest: 0.7218045 (20)\ttotal: 1.76s\tremaining: 60.9ms\n",
      "116:\tlearn: 0.9416196\ttest: 0.6717557\tbest: 0.7218045 (20)\ttotal: 1.78s\tremaining: 45.7ms\n",
      "117:\tlearn: 0.9433962\ttest: 0.6766917\tbest: 0.7218045 (20)\ttotal: 1.8s\tremaining: 30.5ms\n",
      "118:\tlearn: 0.9433962\ttest: 0.6717557\tbest: 0.7218045 (20)\ttotal: 1.81s\tremaining: 15.2ms\n",
      "119:\tlearn: 0.9473684\ttest: 0.6615385\tbest: 0.7218045 (20)\ttotal: 1.83s\tremaining: 0us\n",
      "\n",
      "bestTest = 0.7218045113\n",
      "bestIteration = 20\n",
      "\n",
      "Training on fold [2/5]\n",
      "0:\tlearn: 0.7216891\ttest: 0.6861314\tbest: 0.6861314 (0)\ttotal: 11.8ms\tremaining: 1.4s\n",
      "1:\tlearn: 0.6666667\ttest: 0.6470588\tbest: 0.6861314 (0)\ttotal: 19.8ms\tremaining: 1.17s\n",
      "2:\tlearn: 0.7344633\ttest: 0.7164179\tbest: 0.7164179 (2)\ttotal: 35.3ms\tremaining: 1.38s\n",
      "3:\tlearn: 0.6712644\ttest: 0.6792453\tbest: 0.7164179 (2)\ttotal: 41.6ms\tremaining: 1.21s\n",
      "4:\tlearn: 0.6697460\ttest: 0.6792453\tbest: 0.7164179 (2)\ttotal: 54.6ms\tremaining: 1.26s\n",
      "5:\tlearn: 0.6697674\ttest: 0.6792453\tbest: 0.7164179 (2)\ttotal: 70.7ms\tremaining: 1.34s\n",
      "6:\tlearn: 0.6697674\ttest: 0.6792453\tbest: 0.7164179 (2)\ttotal: 75.8ms\tremaining: 1.22s\n",
      "7:\tlearn: 0.6697674\ttest: 0.6792453\tbest: 0.7164179 (2)\ttotal: 87.8ms\tremaining: 1.23s\n",
      "8:\tlearn: 0.6993318\ttest: 0.6605505\tbest: 0.7164179 (2)\ttotal: 104ms\tremaining: 1.28s\n",
      "9:\tlearn: 0.7152034\ttest: 0.6902655\tbest: 0.7164179 (2)\ttotal: 119ms\tremaining: 1.3s\n",
      "10:\tlearn: 0.7126949\ttest: 0.6851852\tbest: 0.7164179 (2)\ttotal: 134ms\tremaining: 1.33s\n",
      "11:\tlearn: 0.7333333\ttest: 0.6842105\tbest: 0.7164179 (2)\ttotal: 150ms\tremaining: 1.35s\n",
      "12:\tlearn: 0.7333333\ttest: 0.6902655\tbest: 0.7164179 (2)\ttotal: 169ms\tremaining: 1.39s\n",
      "13:\tlearn: 0.7333333\ttest: 0.6902655\tbest: 0.7164179 (2)\ttotal: 177ms\tremaining: 1.34s\n",
      "14:\tlearn: 0.7295597\ttest: 0.6902655\tbest: 0.7164179 (2)\ttotal: 192ms\tremaining: 1.34s\n",
      "15:\tlearn: 0.7504990\ttest: 0.6902655\tbest: 0.7164179 (2)\ttotal: 204ms\tremaining: 1.32s\n",
      "16:\tlearn: 0.7656250\ttest: 0.7438017\tbest: 0.7438017 (16)\ttotal: 221ms\tremaining: 1.34s\n",
      "17:\tlearn: 0.7592955\ttest: 0.7479675\tbest: 0.7479675 (17)\ttotal: 237ms\tremaining: 1.34s\n",
      "18:\tlearn: 0.7565392\ttest: 0.7479675\tbest: 0.7479675 (17)\ttotal: 253ms\tremaining: 1.34s\n",
      "19:\tlearn: 0.7624750\ttest: 0.7479675\tbest: 0.7479675 (17)\ttotal: 268ms\tremaining: 1.34s\n",
      "20:\tlearn: 0.7578125\ttest: 0.7479675\tbest: 0.7479675 (17)\ttotal: 283ms\tremaining: 1.33s\n",
      "21:\tlearn: 0.7565392\ttest: 0.7479675\tbest: 0.7479675 (17)\ttotal: 292ms\tremaining: 1.3s\n",
      "22:\tlearn: 0.7615230\ttest: 0.7479675\tbest: 0.7479675 (17)\ttotal: 300ms\tremaining: 1.26s\n",
      "23:\tlearn: 0.7615230\ttest: 0.7479675\tbest: 0.7479675 (17)\ttotal: 305ms\tremaining: 1.22s\n",
      "24:\tlearn: 0.7615230\ttest: 0.7479675\tbest: 0.7479675 (17)\ttotal: 310ms\tremaining: 1.18s\n",
      "25:\tlearn: 0.7636364\ttest: 0.7540984\tbest: 0.7540984 (25)\ttotal: 325ms\tremaining: 1.18s\n",
      "26:\tlearn: 0.7636364\ttest: 0.7540984\tbest: 0.7540984 (25)\ttotal: 329ms\tremaining: 1.13s\n",
      "27:\tlearn: 0.7704591\ttest: 0.7603306\tbest: 0.7603306 (27)\ttotal: 345ms\tremaining: 1.13s\n",
      "28:\tlearn: 0.7788650\ttest: 0.7301587\tbest: 0.7603306 (27)\ttotal: 360ms\tremaining: 1.13s\n",
      "29:\tlearn: 0.7819253\ttest: 0.7317073\tbest: 0.7603306 (27)\ttotal: 377ms\tremaining: 1.13s\n",
      "30:\tlearn: 0.7803922\ttest: 0.7317073\tbest: 0.7603306 (27)\ttotal: 391ms\tremaining: 1.12s\n",
      "31:\tlearn: 0.7803922\ttest: 0.7317073\tbest: 0.7603306 (27)\ttotal: 407ms\tremaining: 1.12s\n",
      "32:\tlearn: 0.7753479\ttest: 0.7500000\tbest: 0.7603306 (27)\ttotal: 416ms\tremaining: 1.1s\n",
      "33:\tlearn: 0.7786561\ttest: 0.7317073\tbest: 0.7603306 (27)\ttotal: 438ms\tremaining: 1.11s\n",
      "34:\tlearn: 0.7786561\ttest: 0.7107438\tbest: 0.7603306 (27)\ttotal: 447ms\tremaining: 1.08s\n",
      "35:\tlearn: 0.7786561\ttest: 0.7107438\tbest: 0.7603306 (27)\ttotal: 453ms\tremaining: 1.06s\n",
      "36:\tlearn: 0.7786561\ttest: 0.7107438\tbest: 0.7603306 (27)\ttotal: 469ms\tremaining: 1.05s\n",
      "37:\tlearn: 0.7801980\ttest: 0.7049180\tbest: 0.7603306 (27)\ttotal: 485ms\tremaining: 1.04s\n",
      "38:\tlearn: 0.7817460\ttest: 0.7213115\tbest: 0.7603306 (27)\ttotal: 500ms\tremaining: 1.04s\n",
      "39:\tlearn: 0.7841584\ttest: 0.7258065\tbest: 0.7603306 (27)\ttotal: 515ms\tremaining: 1.03s\n",
      "40:\tlearn: 0.7920792\ttest: 0.7317073\tbest: 0.7603306 (27)\ttotal: 530ms\tremaining: 1.02s\n",
      "41:\tlearn: 0.7928287\ttest: 0.7317073\tbest: 0.7603306 (27)\ttotal: 546ms\tremaining: 1.01s\n",
      "42:\tlearn: 0.7928287\ttest: 0.7317073\tbest: 0.7603306 (27)\ttotal: 555ms\tremaining: 994ms\n",
      "43:\tlearn: 0.7968127\ttest: 0.7200000\tbest: 0.7603306 (27)\ttotal: 570ms\tremaining: 985ms\n",
      "44:\tlearn: 0.7968127\ttest: 0.7200000\tbest: 0.7603306 (27)\ttotal: 586ms\tremaining: 976ms\n",
      "45:\tlearn: 0.7952286\ttest: 0.7200000\tbest: 0.7603306 (27)\ttotal: 602ms\tremaining: 969ms\n",
      "46:\tlearn: 0.8039604\ttest: 0.7200000\tbest: 0.7603306 (27)\ttotal: 622ms\tremaining: 966ms\n",
      "47:\tlearn: 0.8031496\ttest: 0.7200000\tbest: 0.7603306 (27)\ttotal: 638ms\tremaining: 956ms\n",
      "48:\tlearn: 0.8023715\ttest: 0.7200000\tbest: 0.7603306 (27)\ttotal: 653ms\tremaining: 946ms\n",
      "49:\tlearn: 0.8007890\ttest: 0.7200000\tbest: 0.7603306 (27)\ttotal: 669ms\tremaining: 936ms\n",
      "50:\tlearn: 0.8031496\ttest: 0.7154472\tbest: 0.7603306 (27)\ttotal: 684ms\tremaining: 926ms\n",
      "51:\tlearn: 0.8031496\ttest: 0.7200000\tbest: 0.7603306 (27)\ttotal: 700ms\tremaining: 916ms\n",
      "52:\tlearn: 0.8055010\ttest: 0.7258065\tbest: 0.7603306 (27)\ttotal: 716ms\tremaining: 905ms\n",
      "53:\tlearn: 0.8055010\ttest: 0.7200000\tbest: 0.7603306 (27)\ttotal: 732ms\tremaining: 894ms\n",
      "54:\tlearn: 0.8055010\ttest: 0.7200000\tbest: 0.7603306 (27)\ttotal: 748ms\tremaining: 884ms\n",
      "55:\tlearn: 0.8078431\ttest: 0.7301587\tbest: 0.7603306 (27)\ttotal: 764ms\tremaining: 873ms\n",
      "56:\tlearn: 0.8109162\ttest: 0.7360000\tbest: 0.7603306 (27)\ttotal: 780ms\tremaining: 862ms\n",
      "57:\tlearn: 0.8187135\ttest: 0.7360000\tbest: 0.7603306 (27)\ttotal: 796ms\tremaining: 850ms\n",
      "58:\tlearn: 0.8226121\ttest: 0.7360000\tbest: 0.7603306 (27)\ttotal: 811ms\tremaining: 839ms\n",
      "59:\tlearn: 0.8265107\ttest: 0.7343750\tbest: 0.7603306 (27)\ttotal: 828ms\tremaining: 828ms\n",
      "60:\tlearn: 0.8355899\ttest: 0.7343750\tbest: 0.7603306 (27)\ttotal: 849ms\tremaining: 821ms\n",
      "61:\tlearn: 0.8423077\ttest: 0.7343750\tbest: 0.7603306 (27)\ttotal: 862ms\tremaining: 806ms\n",
      "62:\tlearn: 0.8390805\ttest: 0.7441860\tbest: 0.7603306 (27)\ttotal: 874ms\tremaining: 791ms\n",
      "63:\tlearn: 0.8505747\ttest: 0.7441860\tbest: 0.7603306 (27)\ttotal: 890ms\tremaining: 779ms\n",
      "64:\tlearn: 0.8538899\ttest: 0.7424242\tbest: 0.7603306 (27)\ttotal: 907ms\tremaining: 767ms\n",
      "65:\tlearn: 0.8544423\ttest: 0.7259259\tbest: 0.7603306 (27)\ttotal: 924ms\tremaining: 756ms\n",
      "66:\tlearn: 0.8576850\ttest: 0.7259259\tbest: 0.7603306 (27)\ttotal: 939ms\tremaining: 743ms\n",
      "67:\tlearn: 0.8620690\ttest: 0.7121212\tbest: 0.7603306 (27)\ttotal: 955ms\tremaining: 730ms\n",
      "68:\tlearn: 0.8670520\ttest: 0.7175573\tbest: 0.7603306 (27)\ttotal: 971ms\tremaining: 718ms\n",
      "69:\tlearn: 0.8598848\ttest: 0.7272727\tbest: 0.7603306 (27)\ttotal: 987ms\tremaining: 705ms\n",
      "70:\tlearn: 0.8598848\ttest: 0.7218045\tbest: 0.7603306 (27)\ttotal: 1s\tremaining: 692ms\n",
      "71:\tlearn: 0.8620690\ttest: 0.7218045\tbest: 0.7603306 (27)\ttotal: 1.02s\tremaining: 678ms\n",
      "72:\tlearn: 0.8685714\ttest: 0.7218045\tbest: 0.7603306 (27)\ttotal: 1.03s\tremaining: 665ms\n",
      "73:\tlearn: 0.8702290\ttest: 0.7218045\tbest: 0.7603306 (27)\ttotal: 1.05s\tremaining: 653ms\n",
      "74:\tlearn: 0.8702290\ttest: 0.7164179\tbest: 0.7603306 (27)\ttotal: 1.06s\tremaining: 638ms\n",
      "75:\tlearn: 0.8718929\ttest: 0.7164179\tbest: 0.7603306 (27)\ttotal: 1.08s\tremaining: 626ms\n",
      "76:\tlearn: 0.8735632\ttest: 0.7164179\tbest: 0.7603306 (27)\ttotal: 1.1s\tremaining: 613ms\n",
      "77:\tlearn: 0.8778626\ttest: 0.7111111\tbest: 0.7603306 (27)\ttotal: 1.11s\tremaining: 599ms\n",
      "78:\tlearn: 0.8778626\ttest: 0.7111111\tbest: 0.7603306 (27)\ttotal: 1.13s\tremaining: 586ms\n",
      "79:\tlearn: 0.8778626\ttest: 0.7164179\tbest: 0.7603306 (27)\ttotal: 1.14s\tremaining: 572ms\n",
      "80:\tlearn: 0.8859316\ttest: 0.7067669\tbest: 0.7603306 (27)\ttotal: 1.16s\tremaining: 558ms\n",
      "81:\tlearn: 0.8901515\ttest: 0.7111111\tbest: 0.7603306 (27)\ttotal: 1.17s\tremaining: 544ms\n",
      "82:\tlearn: 0.8901515\ttest: 0.7111111\tbest: 0.7603306 (27)\ttotal: 1.19s\tremaining: 530ms\n",
      "83:\tlearn: 0.8960302\ttest: 0.7313433\tbest: 0.7603306 (27)\ttotal: 1.21s\tremaining: 517ms\n",
      "84:\tlearn: 0.9001883\ttest: 0.7259259\tbest: 0.7603306 (27)\ttotal: 1.22s\tremaining: 502ms\n",
      "85:\tlearn: 0.9043152\ttest: 0.7164179\tbest: 0.7603306 (27)\ttotal: 1.24s\tremaining: 489ms\n",
      "86:\tlearn: 0.9060150\ttest: 0.7111111\tbest: 0.7603306 (27)\ttotal: 1.25s\tremaining: 475ms\n",
      "87:\tlearn: 0.9018868\ttest: 0.7111111\tbest: 0.7603306 (27)\ttotal: 1.26s\tremaining: 460ms\n",
      "88:\tlearn: 0.9018868\ttest: 0.7111111\tbest: 0.7603306 (27)\ttotal: 1.28s\tremaining: 447ms\n",
      "89:\tlearn: 0.9039548\ttest: 0.7299270\tbest: 0.7603306 (27)\ttotal: 1.3s\tremaining: 433ms\n",
      "90:\tlearn: 0.9039548\ttest: 0.7299270\tbest: 0.7603306 (27)\ttotal: 1.31s\tremaining: 419ms\n",
      "91:\tlearn: 0.9039548\ttest: 0.7299270\tbest: 0.7603306 (27)\ttotal: 1.33s\tremaining: 405ms\n",
      "92:\tlearn: 0.9056604\ttest: 0.7352941\tbest: 0.7603306 (27)\ttotal: 1.34s\tremaining: 391ms\n",
      "93:\tlearn: 0.9077213\ttest: 0.7352941\tbest: 0.7603306 (27)\ttotal: 1.36s\tremaining: 376ms\n",
      "94:\tlearn: 0.9097744\ttest: 0.7445255\tbest: 0.7603306 (27)\ttotal: 1.38s\tremaining: 362ms\n",
      "95:\tlearn: 0.9097744\ttest: 0.7445255\tbest: 0.7603306 (27)\ttotal: 1.39s\tremaining: 348ms\n",
      "96:\tlearn: 0.9169811\ttest: 0.7445255\tbest: 0.7603306 (27)\ttotal: 1.41s\tremaining: 334ms\n",
      "97:\tlearn: 0.9187146\ttest: 0.7445255\tbest: 0.7603306 (27)\ttotal: 1.42s\tremaining: 319ms\n",
      "98:\tlearn: 0.9187146\ttest: 0.7445255\tbest: 0.7603306 (27)\ttotal: 1.44s\tremaining: 305ms\n",
      "99:\tlearn: 0.9187146\ttest: 0.7445255\tbest: 0.7603306 (27)\ttotal: 1.46s\tremaining: 291ms\n",
      "100:\tlearn: 0.9207547\ttest: 0.7445255\tbest: 0.7603306 (27)\ttotal: 1.48s\tremaining: 278ms\n",
      "101:\tlearn: 0.9227872\ttest: 0.7536232\tbest: 0.7603306 (27)\ttotal: 1.49s\tremaining: 264ms\n",
      "102:\tlearn: 0.9268293\ttest: 0.7482014\tbest: 0.7603306 (27)\ttotal: 1.51s\tremaining: 249ms\n",
      "103:\tlearn: 0.9265537\ttest: 0.7375887\tbest: 0.7603306 (27)\ttotal: 1.53s\tremaining: 235ms\n",
      "104:\tlearn: 0.9265537\ttest: 0.7375887\tbest: 0.7603306 (27)\ttotal: 1.54s\tremaining: 221ms\n",
      "105:\tlearn: 0.9300567\ttest: 0.7482014\tbest: 0.7603306 (27)\ttotal: 1.56s\tremaining: 206ms\n",
      "106:\tlearn: 0.9300567\ttest: 0.7482014\tbest: 0.7603306 (27)\ttotal: 1.58s\tremaining: 192ms\n",
      "107:\tlearn: 0.9300567\ttest: 0.7482014\tbest: 0.7603306 (27)\ttotal: 1.59s\tremaining: 177ms\n",
      "108:\tlearn: 0.9320755\ttest: 0.7482014\tbest: 0.7603306 (27)\ttotal: 1.61s\tremaining: 163ms\n",
      "109:\tlearn: 0.9320755\ttest: 0.7482014\tbest: 0.7603306 (27)\ttotal: 1.63s\tremaining: 148ms\n",
      "110:\tlearn: 0.9320755\ttest: 0.7375887\tbest: 0.7603306 (27)\ttotal: 1.64s\tremaining: 133ms\n",
      "111:\tlearn: 0.9320755\ttest: 0.7375887\tbest: 0.7603306 (27)\ttotal: 1.66s\tremaining: 118ms\n",
      "112:\tlearn: 0.9320755\ttest: 0.7375887\tbest: 0.7603306 (27)\ttotal: 1.67s\tremaining: 104ms\n",
      "113:\tlearn: 0.9340866\ttest: 0.7375887\tbest: 0.7603306 (27)\ttotal: 1.69s\tremaining: 88.9ms\n",
      "114:\tlearn: 0.9340866\ttest: 0.7482014\tbest: 0.7603306 (27)\ttotal: 1.7s\tremaining: 74ms\n",
      "115:\tlearn: 0.9378531\ttest: 0.7571429\tbest: 0.7603306 (27)\ttotal: 1.72s\tremaining: 59.2ms\n",
      "116:\tlearn: 0.9378531\ttest: 0.7571429\tbest: 0.7603306 (27)\ttotal: 1.73s\tremaining: 44.4ms\n",
      "117:\tlearn: 0.9360902\ttest: 0.7571429\tbest: 0.7603306 (27)\ttotal: 1.75s\tremaining: 29.6ms\n",
      "118:\tlearn: 0.9378531\ttest: 0.7571429\tbest: 0.7603306 (27)\ttotal: 1.76s\tremaining: 14.8ms\n",
      "119:\tlearn: 0.9360902\ttest: 0.7571429\tbest: 0.7603306 (27)\ttotal: 1.78s\tremaining: 0us\n",
      "\n",
      "bestTest = 0.7603305785\n",
      "bestIteration = 27\n",
      "\n",
      "Training on fold [3/5]\n",
      "0:\tlearn: 0.6280193\ttest: 0.6857143\tbest: 0.6857143 (0)\ttotal: 10.8ms\tremaining: 1.29s\n",
      "1:\tlearn: 0.6359447\ttest: 0.6603774\tbest: 0.6857143 (0)\ttotal: 19.7ms\tremaining: 1.16s\n",
      "2:\tlearn: 0.6576577\ttest: 0.6909091\tbest: 0.6909091 (2)\ttotal: 35.6ms\tremaining: 1.39s\n",
      "3:\tlearn: 0.6494118\ttest: 0.7037037\tbest: 0.7037037 (3)\ttotal: 40.9ms\tremaining: 1.19s\n",
      "4:\tlearn: 0.7069943\ttest: 0.7938931\tbest: 0.7938931 (4)\ttotal: 53.9ms\tremaining: 1.24s\n",
      "5:\tlearn: 0.6558140\ttest: 0.6909091\tbest: 0.7938931 (4)\ttotal: 68.1ms\tremaining: 1.29s\n",
      "6:\tlearn: 0.6588785\ttest: 0.6972477\tbest: 0.7938931 (4)\ttotal: 73.5ms\tremaining: 1.19s\n",
      "7:\tlearn: 0.7166979\ttest: 0.7819549\tbest: 0.7938931 (4)\ttotal: 89.9ms\tremaining: 1.26s\n",
      "8:\tlearn: 0.7207547\ttest: 0.7819549\tbest: 0.7938931 (4)\ttotal: 106ms\tremaining: 1.31s\n",
      "9:\tlearn: 0.7265774\ttest: 0.7878788\tbest: 0.7938931 (4)\ttotal: 115ms\tremaining: 1.26s\n",
      "10:\tlearn: 0.6635731\ttest: 0.6909091\tbest: 0.7938931 (4)\ttotal: 123ms\tremaining: 1.21s\n",
      "11:\tlearn: 0.7436399\ttest: 0.7878788\tbest: 0.7938931 (4)\ttotal: 139ms\tremaining: 1.25s\n",
      "12:\tlearn: 0.7436399\ttest: 0.7878788\tbest: 0.7938931 (4)\ttotal: 144ms\tremaining: 1.18s\n",
      "13:\tlearn: 0.7053571\ttest: 0.6896552\tbest: 0.7938931 (4)\ttotal: 161ms\tremaining: 1.22s\n",
      "14:\tlearn: 0.7011236\ttest: 0.6956522\tbest: 0.7938931 (4)\ttotal: 176ms\tremaining: 1.23s\n",
      "15:\tlearn: 0.7053571\ttest: 0.7068966\tbest: 0.7938931 (4)\ttotal: 192ms\tremaining: 1.25s\n",
      "16:\tlearn: 0.7139690\ttest: 0.7008547\tbest: 0.7938931 (4)\ttotal: 205ms\tremaining: 1.24s\n",
      "17:\tlearn: 0.7088608\ttest: 0.7460317\tbest: 0.7938931 (4)\ttotal: 221ms\tremaining: 1.25s\n",
      "18:\tlearn: 0.7461538\ttest: 0.7910448\tbest: 0.7938931 (4)\ttotal: 236ms\tremaining: 1.26s\n",
      "19:\tlearn: 0.7134021\ttest: 0.7559055\tbest: 0.7938931 (4)\ttotal: 253ms\tremaining: 1.27s\n",
      "20:\tlearn: 0.7359667\ttest: 0.7500000\tbest: 0.7938931 (4)\ttotal: 270ms\tremaining: 1.27s\n",
      "21:\tlearn: 0.7326316\ttest: 0.7419355\tbest: 0.7938931 (4)\ttotal: 275ms\tremaining: 1.22s\n",
      "22:\tlearn: 0.7326316\ttest: 0.7419355\tbest: 0.7938931 (4)\ttotal: 280ms\tremaining: 1.18s\n",
      "23:\tlearn: 0.7276596\ttest: 0.7479675\tbest: 0.7938931 (4)\ttotal: 293ms\tremaining: 1.17s\n",
      "24:\tlearn: 0.7296137\ttest: 0.7479675\tbest: 0.7938931 (4)\ttotal: 309ms\tremaining: 1.17s\n",
      "25:\tlearn: 0.7364017\ttest: 0.7559055\tbest: 0.7938931 (4)\ttotal: 325ms\tremaining: 1.18s\n",
      "26:\tlearn: 0.7410526\ttest: 0.7479675\tbest: 0.7938931 (4)\ttotal: 341ms\tremaining: 1.17s\n",
      "27:\tlearn: 0.7415254\ttest: 0.7479675\tbest: 0.7938931 (4)\ttotal: 356ms\tremaining: 1.17s\n",
      "28:\tlearn: 0.7421384\ttest: 0.7520000\tbest: 0.7938931 (4)\ttotal: 371ms\tremaining: 1.16s\n",
      "29:\tlearn: 0.7426160\ttest: 0.7419355\tbest: 0.7938931 (4)\ttotal: 386ms\tremaining: 1.16s\n",
      "30:\tlearn: 0.7341772\ttest: 0.7619048\tbest: 0.7938931 (4)\ttotal: 401ms\tremaining: 1.15s\n",
      "31:\tlearn: 0.7464503\ttest: 0.7619048\tbest: 0.7938931 (4)\ttotal: 416ms\tremaining: 1.14s\n",
      "32:\tlearn: 0.7379455\ttest: 0.7619048\tbest: 0.7938931 (4)\ttotal: 426ms\tremaining: 1.12s\n",
      "33:\tlearn: 0.7510373\ttest: 0.7619048\tbest: 0.7938931 (4)\ttotal: 454ms\tremaining: 1.15s\n",
      "34:\tlearn: 0.7642276\ttest: 0.7520000\tbest: 0.7938931 (4)\ttotal: 472ms\tremaining: 1.15s\n",
      "35:\tlearn: 0.7648262\ttest: 0.7680000\tbest: 0.7938931 (4)\ttotal: 488ms\tremaining: 1.14s\n",
      "36:\tlearn: 0.7740668\ttest: 0.7878788\tbest: 0.7938931 (4)\ttotal: 504ms\tremaining: 1.13s\n",
      "37:\tlearn: 0.7725490\ttest: 0.7786260\tbest: 0.7938931 (4)\ttotal: 520ms\tremaining: 1.12s\n",
      "38:\tlearn: 0.7805825\ttest: 0.7727273\tbest: 0.7938931 (4)\ttotal: 536ms\tremaining: 1.11s\n",
      "39:\tlearn: 0.7805825\ttest: 0.7819549\tbest: 0.7938931 (4)\ttotal: 552ms\tremaining: 1.1s\n",
      "40:\tlearn: 0.7829457\ttest: 0.8208955\tbest: 0.8208955 (40)\ttotal: 568ms\tremaining: 1.09s\n",
      "41:\tlearn: 0.7920792\ttest: 0.8091603\tbest: 0.8208955 (40)\ttotal: 584ms\tremaining: 1.08s\n",
      "42:\tlearn: 0.7920792\ttest: 0.8181818\tbest: 0.8208955 (40)\ttotal: 600ms\tremaining: 1.07s\n",
      "43:\tlearn: 0.7944664\ttest: 0.8181818\tbest: 0.8208955 (40)\ttotal: 616ms\tremaining: 1.06s\n",
      "44:\tlearn: 0.7975952\ttest: 0.8217054\tbest: 0.8217054 (44)\ttotal: 632ms\tremaining: 1.05s\n",
      "45:\tlearn: 0.7991968\ttest: 0.8095238\tbest: 0.8217054 (44)\ttotal: 649ms\tremaining: 1.04s\n",
      "46:\tlearn: 0.7951807\ttest: 0.8031496\tbest: 0.8217054 (44)\ttotal: 665ms\tremaining: 1.03s\n",
      "47:\tlearn: 0.7951807\ttest: 0.8095238\tbest: 0.8217054 (44)\ttotal: 681ms\tremaining: 1.02s\n",
      "48:\tlearn: 0.7960000\ttest: 0.8125000\tbest: 0.8217054 (44)\ttotal: 698ms\tremaining: 1.01s\n",
      "49:\tlearn: 0.7967807\ttest: 0.8095238\tbest: 0.8217054 (44)\ttotal: 714ms\tremaining: 1s\n",
      "50:\tlearn: 0.8040000\ttest: 0.7936508\tbest: 0.8217054 (44)\ttotal: 730ms\tremaining: 988ms\n",
      "51:\tlearn: 0.8111332\ttest: 0.7840000\tbest: 0.8217054 (44)\ttotal: 747ms\tremaining: 976ms\n",
      "52:\tlearn: 0.8047809\ttest: 0.7777778\tbest: 0.8217054 (44)\ttotal: 763ms\tremaining: 964ms\n",
      "53:\tlearn: 0.8055556\ttest: 0.7777778\tbest: 0.8217054 (44)\ttotal: 781ms\tremaining: 955ms\n",
      "54:\tlearn: 0.8079208\ttest: 0.7777778\tbest: 0.8217054 (44)\ttotal: 799ms\tremaining: 944ms\n",
      "55:\tlearn: 0.8087649\ttest: 0.7777778\tbest: 0.8217054 (44)\ttotal: 816ms\tremaining: 932ms\n",
      "56:\tlearn: 0.8103792\ttest: 0.7777778\tbest: 0.8217054 (44)\ttotal: 835ms\tremaining: 923ms\n",
      "57:\tlearn: 0.8120000\ttest: 0.7777778\tbest: 0.8217054 (44)\ttotal: 852ms\tremaining: 911ms\n",
      "58:\tlearn: 0.8167331\ttest: 0.7777778\tbest: 0.8217054 (44)\ttotal: 872ms\tremaining: 901ms\n",
      "59:\tlearn: 0.8300395\ttest: 0.7840000\tbest: 0.8217054 (44)\ttotal: 889ms\tremaining: 889ms\n",
      "60:\tlearn: 0.8300395\ttest: 0.7840000\tbest: 0.8217054 (44)\ttotal: 904ms\tremaining: 874ms\n",
      "61:\tlearn: 0.8323471\ttest: 0.7840000\tbest: 0.8217054 (44)\ttotal: 917ms\tremaining: 857ms\n",
      "62:\tlearn: 0.8323471\ttest: 0.7840000\tbest: 0.8217054 (44)\ttotal: 933ms\tremaining: 844ms\n",
      "63:\tlearn: 0.8323471\ttest: 0.7840000\tbest: 0.8217054 (44)\ttotal: 951ms\tremaining: 832ms\n",
      "64:\tlearn: 0.8339921\ttest: 0.7840000\tbest: 0.8217054 (44)\ttotal: 968ms\tremaining: 819ms\n",
      "65:\tlearn: 0.8385827\ttest: 0.7840000\tbest: 0.8217054 (44)\ttotal: 983ms\tremaining: 805ms\n",
      "66:\tlearn: 0.8385827\ttest: 0.7777778\tbest: 0.8217054 (44)\ttotal: 998ms\tremaining: 790ms\n",
      "67:\tlearn: 0.8385827\ttest: 0.7777778\tbest: 0.8217054 (44)\ttotal: 1.01s\tremaining: 776ms\n",
      "68:\tlearn: 0.8464567\ttest: 0.7777778\tbest: 0.8217054 (44)\ttotal: 1.03s\tremaining: 761ms\n",
      "69:\tlearn: 0.8582524\ttest: 0.7812500\tbest: 0.8217054 (44)\ttotal: 1.04s\tremaining: 747ms\n",
      "70:\tlearn: 0.8648649\ttest: 0.7906977\tbest: 0.8217054 (44)\ttotal: 1.06s\tremaining: 732ms\n",
      "71:\tlearn: 0.8626692\ttest: 0.7906977\tbest: 0.8217054 (44)\ttotal: 1.07s\tremaining: 717ms\n",
      "72:\tlearn: 0.8692308\ttest: 0.7906977\tbest: 0.8217054 (44)\ttotal: 1.09s\tremaining: 705ms\n",
      "73:\tlearn: 0.8692308\ttest: 0.7716535\tbest: 0.8217054 (44)\ttotal: 1.11s\tremaining: 689ms\n",
      "74:\tlearn: 0.8692308\ttest: 0.7716535\tbest: 0.8217054 (44)\ttotal: 1.13s\tremaining: 675ms\n",
      "75:\tlearn: 0.8692308\ttest: 0.7716535\tbest: 0.8217054 (44)\ttotal: 1.14s\tremaining: 660ms\n",
      "76:\tlearn: 0.8790787\ttest: 0.7656250\tbest: 0.8217054 (44)\ttotal: 1.16s\tremaining: 645ms\n",
      "77:\tlearn: 0.8790787\ttest: 0.7656250\tbest: 0.8217054 (44)\ttotal: 1.17s\tremaining: 630ms\n",
      "78:\tlearn: 0.8790787\ttest: 0.7656250\tbest: 0.8217054 (44)\ttotal: 1.19s\tremaining: 615ms\n",
      "79:\tlearn: 0.8790787\ttest: 0.7656250\tbest: 0.8217054 (44)\ttotal: 1.2s\tremaining: 600ms\n",
      "80:\tlearn: 0.8807692\ttest: 0.7460317\tbest: 0.8217054 (44)\ttotal: 1.22s\tremaining: 586ms\n",
      "81:\tlearn: 0.8875969\ttest: 0.7460317\tbest: 0.8217054 (44)\ttotal: 1.23s\tremaining: 571ms\n",
      "82:\tlearn: 0.8875969\ttest: 0.7460317\tbest: 0.8217054 (44)\ttotal: 1.25s\tremaining: 556ms\n",
      "83:\tlearn: 0.8897485\ttest: 0.7460317\tbest: 0.8217054 (44)\ttotal: 1.26s\tremaining: 542ms\n",
      "84:\tlearn: 0.8914729\ttest: 0.7460317\tbest: 0.8217054 (44)\ttotal: 1.28s\tremaining: 527ms\n",
      "85:\tlearn: 0.8875969\ttest: 0.7460317\tbest: 0.8217054 (44)\ttotal: 1.3s\tremaining: 513ms\n",
      "86:\tlearn: 0.8858801\ttest: 0.7460317\tbest: 0.8217054 (44)\ttotal: 1.31s\tremaining: 497ms\n",
      "87:\tlearn: 0.8875969\ttest: 0.7460317\tbest: 0.8217054 (44)\ttotal: 1.33s\tremaining: 483ms\n",
      "88:\tlearn: 0.8875969\ttest: 0.7460317\tbest: 0.8217054 (44)\ttotal: 1.34s\tremaining: 468ms\n",
      "89:\tlearn: 0.8875969\ttest: 0.7460317\tbest: 0.8217054 (44)\ttotal: 1.36s\tremaining: 453ms\n",
      "90:\tlearn: 0.8875969\ttest: 0.7460317\tbest: 0.8217054 (44)\ttotal: 1.37s\tremaining: 438ms\n",
      "91:\tlearn: 0.8893204\ttest: 0.7460317\tbest: 0.8217054 (44)\ttotal: 1.39s\tremaining: 424ms\n",
      "92:\tlearn: 0.8914729\ttest: 0.7580645\tbest: 0.8217054 (44)\ttotal: 1.41s\tremaining: 408ms\n",
      "93:\tlearn: 0.8932039\ttest: 0.7580645\tbest: 0.8217054 (44)\ttotal: 1.42s\tremaining: 393ms\n",
      "94:\tlearn: 0.8966862\ttest: 0.7580645\tbest: 0.8217054 (44)\ttotal: 1.44s\tremaining: 379ms\n",
      "95:\tlearn: 0.9005848\ttest: 0.7580645\tbest: 0.8217054 (44)\ttotal: 1.45s\tremaining: 363ms\n",
      "96:\tlearn: 0.9009709\ttest: 0.7580645\tbest: 0.8217054 (44)\ttotal: 1.47s\tremaining: 348ms\n",
      "97:\tlearn: 0.9052224\ttest: 0.7520000\tbest: 0.8217054 (44)\ttotal: 1.48s\tremaining: 333ms\n",
      "98:\tlearn: 0.9052224\ttest: 0.7520000\tbest: 0.8217054 (44)\ttotal: 1.52s\tremaining: 323ms\n",
      "99:\tlearn: 0.9052224\ttest: 0.7520000\tbest: 0.8217054 (44)\ttotal: 1.54s\tremaining: 308ms\n",
      "100:\tlearn: 0.9052224\ttest: 0.7520000\tbest: 0.8217054 (44)\ttotal: 1.56s\tremaining: 293ms\n",
      "101:\tlearn: 0.9052224\ttest: 0.7520000\tbest: 0.8217054 (44)\ttotal: 1.57s\tremaining: 277ms\n",
      "102:\tlearn: 0.9052224\ttest: 0.7520000\tbest: 0.8217054 (44)\ttotal: 1.59s\tremaining: 262ms\n",
      "103:\tlearn: 0.9052224\ttest: 0.7419355\tbest: 0.8217054 (44)\ttotal: 1.6s\tremaining: 246ms\n",
      "104:\tlearn: 0.9052224\ttest: 0.7360000\tbest: 0.8217054 (44)\ttotal: 1.62s\tremaining: 231ms\n",
      "105:\tlearn: 0.9073359\ttest: 0.7360000\tbest: 0.8217054 (44)\ttotal: 1.63s\tremaining: 216ms\n",
      "106:\tlearn: 0.9052224\ttest: 0.7360000\tbest: 0.8217054 (44)\ttotal: 1.65s\tremaining: 200ms\n",
      "107:\tlearn: 0.9073359\ttest: 0.7419355\tbest: 0.8217054 (44)\ttotal: 1.66s\tremaining: 185ms\n",
      "108:\tlearn: 0.9073359\ttest: 0.7520000\tbest: 0.8217054 (44)\ttotal: 1.68s\tremaining: 169ms\n",
      "109:\tlearn: 0.9055877\ttest: 0.7520000\tbest: 0.8217054 (44)\ttotal: 1.69s\tremaining: 154ms\n",
      "110:\tlearn: 0.9052224\ttest: 0.7520000\tbest: 0.8217054 (44)\ttotal: 1.71s\tremaining: 138ms\n",
      "111:\tlearn: 0.9073359\ttest: 0.7520000\tbest: 0.8217054 (44)\ttotal: 1.72s\tremaining: 123ms\n",
      "112:\tlearn: 0.9059501\ttest: 0.7460317\tbest: 0.8217054 (44)\ttotal: 1.74s\tremaining: 108ms\n",
      "113:\tlearn: 0.9042146\ttest: 0.7360000\tbest: 0.8217054 (44)\ttotal: 1.75s\tremaining: 92.1ms\n",
      "114:\tlearn: 0.9059501\ttest: 0.7360000\tbest: 0.8217054 (44)\ttotal: 1.76s\tremaining: 76.7ms\n",
      "115:\tlearn: 0.9080460\ttest: 0.7360000\tbest: 0.8217054 (44)\ttotal: 1.78s\tremaining: 61.5ms\n",
      "116:\tlearn: 0.9097889\ttest: 0.7360000\tbest: 0.8217054 (44)\ttotal: 1.8s\tremaining: 46.1ms\n",
      "117:\tlearn: 0.9097889\ttest: 0.7360000\tbest: 0.8217054 (44)\ttotal: 1.81s\tremaining: 30.7ms\n",
      "118:\tlearn: 0.9097889\ttest: 0.7360000\tbest: 0.8217054 (44)\ttotal: 1.83s\tremaining: 15.3ms\n",
      "119:\tlearn: 0.9171484\ttest: 0.7360000\tbest: 0.8217054 (44)\ttotal: 1.84s\tremaining: 0us\n",
      "\n",
      "bestTest = 0.8217054264\n",
      "bestIteration = 44\n",
      "\n",
      "Training on fold [4/5]\n",
      "0:\tlearn: 0.7123810\ttest: 0.7022901\tbest: 0.7022901 (0)\ttotal: 4.89ms\tremaining: 582ms\n",
      "1:\tlearn: 0.7123810\ttest: 0.7022901\tbest: 0.7022901 (0)\ttotal: 9.24ms\tremaining: 545ms\n",
      "2:\tlearn: 0.7123810\ttest: 0.7022901\tbest: 0.7022901 (0)\ttotal: 14.8ms\tremaining: 576ms\n",
      "3:\tlearn: 0.7123810\ttest: 0.7022901\tbest: 0.7022901 (0)\ttotal: 28.8ms\tremaining: 836ms\n",
      "4:\tlearn: 0.7242026\ttest: 0.6969697\tbest: 0.7022901 (0)\ttotal: 45.7ms\tremaining: 1.05s\n",
      "5:\tlearn: 0.7242026\ttest: 0.6969697\tbest: 0.7022901 (0)\ttotal: 53.9ms\tremaining: 1.02s\n",
      "6:\tlearn: 0.7299814\ttest: 0.6969697\tbest: 0.7022901 (0)\ttotal: 72.3ms\tremaining: 1.17s\n",
      "7:\tlearn: 0.7358491\ttest: 0.7067669\tbest: 0.7067669 (7)\ttotal: 89.2ms\tremaining: 1.25s\n",
      "8:\tlearn: 0.7299814\ttest: 0.7259259\tbest: 0.7259259 (8)\ttotal: 105ms\tremaining: 1.3s\n",
      "9:\tlearn: 0.7299814\ttest: 0.7259259\tbest: 0.7259259 (8)\ttotal: 122ms\tremaining: 1.34s\n",
      "10:\tlearn: 0.7299814\ttest: 0.7259259\tbest: 0.7259259 (8)\ttotal: 140ms\tremaining: 1.39s\n",
      "11:\tlearn: 0.7374302\ttest: 0.7205882\tbest: 0.7259259 (8)\ttotal: 157ms\tremaining: 1.41s\n",
      "12:\tlearn: 0.7368421\ttest: 0.7164179\tbest: 0.7259259 (8)\ttotal: 173ms\tremaining: 1.42s\n",
      "13:\tlearn: 0.7490637\ttest: 0.7111111\tbest: 0.7259259 (8)\ttotal: 189ms\tremaining: 1.43s\n",
      "14:\tlearn: 0.7390476\ttest: 0.7164179\tbest: 0.7259259 (8)\ttotal: 205ms\tremaining: 1.44s\n",
      "15:\tlearn: 0.7485149\ttest: 0.7244094\tbest: 0.7259259 (8)\ttotal: 222ms\tremaining: 1.44s\n",
      "16:\tlearn: 0.7533461\ttest: 0.7272727\tbest: 0.7272727 (16)\ttotal: 238ms\tremaining: 1.44s\n",
      "17:\tlearn: 0.7701375\ttest: 0.7328244\tbest: 0.7328244 (17)\ttotal: 254ms\tremaining: 1.44s\n",
      "18:\tlearn: 0.7667984\ttest: 0.7328244\tbest: 0.7328244 (17)\ttotal: 271ms\tremaining: 1.44s\n",
      "19:\tlearn: 0.7779961\ttest: 0.7368421\tbest: 0.7368421 (19)\ttotal: 285ms\tremaining: 1.43s\n",
      "20:\tlearn: 0.7758285\ttest: 0.7368421\tbest: 0.7368421 (19)\ttotal: 302ms\tremaining: 1.42s\n",
      "21:\tlearn: 0.7852998\ttest: 0.7259259\tbest: 0.7368421 (19)\ttotal: 317ms\tremaining: 1.41s\n",
      "22:\tlearn: 0.7805825\ttest: 0.7480916\tbest: 0.7480916 (22)\ttotal: 333ms\tremaining: 1.41s\n",
      "23:\tlearn: 0.7805825\ttest: 0.7480916\tbest: 0.7480916 (22)\ttotal: 338ms\tremaining: 1.35s\n",
      "24:\tlearn: 0.7782101\ttest: 0.7480916\tbest: 0.7480916 (22)\ttotal: 354ms\tremaining: 1.34s\n",
      "25:\tlearn: 0.7788650\ttest: 0.7480916\tbest: 0.7480916 (22)\ttotal: 370ms\tremaining: 1.34s\n",
      "26:\tlearn: 0.7803922\ttest: 0.7538462\tbest: 0.7538462 (26)\ttotal: 386ms\tremaining: 1.33s\n",
      "27:\tlearn: 0.7843137\ttest: 0.7272727\tbest: 0.7538462 (26)\ttotal: 401ms\tremaining: 1.32s\n",
      "28:\tlearn: 0.7843137\ttest: 0.7272727\tbest: 0.7538462 (26)\ttotal: 410ms\tremaining: 1.28s\n",
      "29:\tlearn: 0.7819253\ttest: 0.7272727\tbest: 0.7538462 (26)\ttotal: 426ms\tremaining: 1.28s\n",
      "30:\tlearn: 0.7810651\ttest: 0.7424242\tbest: 0.7538462 (26)\ttotal: 442ms\tremaining: 1.27s\n",
      "31:\tlearn: 0.7834646\ttest: 0.7424242\tbest: 0.7538462 (26)\ttotal: 458ms\tremaining: 1.26s\n",
      "32:\tlearn: 0.7801980\ttest: 0.7424242\tbest: 0.7538462 (26)\ttotal: 472ms\tremaining: 1.25s\n",
      "33:\tlearn: 0.7889546\ttest: 0.7441860\tbest: 0.7538462 (26)\ttotal: 493ms\tremaining: 1.25s\n",
      "34:\tlearn: 0.7889546\ttest: 0.7441860\tbest: 0.7538462 (26)\ttotal: 513ms\tremaining: 1.25s\n",
      "35:\tlearn: 0.7913386\ttest: 0.7441860\tbest: 0.7538462 (26)\ttotal: 532ms\tremaining: 1.24s\n",
      "36:\tlearn: 0.7920792\ttest: 0.7441860\tbest: 0.7538462 (26)\ttotal: 550ms\tremaining: 1.23s\n",
      "37:\tlearn: 0.7920792\ttest: 0.7441860\tbest: 0.7538462 (26)\ttotal: 566ms\tremaining: 1.22s\n",
      "38:\tlearn: 0.7944664\ttest: 0.7441860\tbest: 0.7538462 (26)\ttotal: 585ms\tremaining: 1.21s\n",
      "39:\tlearn: 0.8007890\ttest: 0.7441860\tbest: 0.7538462 (26)\ttotal: 603ms\tremaining: 1.21s\n",
      "40:\tlearn: 0.8007890\ttest: 0.7441860\tbest: 0.7538462 (26)\ttotal: 610ms\tremaining: 1.18s\n",
      "41:\tlearn: 0.8007890\ttest: 0.7441860\tbest: 0.7538462 (26)\ttotal: 624ms\tremaining: 1.16s\n",
      "42:\tlearn: 0.8000000\ttest: 0.7441860\tbest: 0.7538462 (26)\ttotal: 644ms\tremaining: 1.15s\n",
      "43:\tlearn: 0.7976424\ttest: 0.7441860\tbest: 0.7538462 (26)\ttotal: 660ms\tremaining: 1.14s\n",
      "44:\tlearn: 0.7992126\ttest: 0.7441860\tbest: 0.7538462 (26)\ttotal: 680ms\tremaining: 1.13s\n",
      "45:\tlearn: 0.7992126\ttest: 0.7441860\tbest: 0.7538462 (26)\ttotal: 698ms\tremaining: 1.12s\n",
      "46:\tlearn: 0.8023715\ttest: 0.7441860\tbest: 0.7538462 (26)\ttotal: 717ms\tremaining: 1.11s\n",
      "47:\tlearn: 0.8007890\ttest: 0.7328244\tbest: 0.7538462 (26)\ttotal: 737ms\tremaining: 1.1s\n",
      "48:\tlearn: 0.8040404\ttest: 0.7328244\tbest: 0.7538462 (26)\ttotal: 757ms\tremaining: 1.1s\n",
      "49:\tlearn: 0.8056112\ttest: 0.7328244\tbest: 0.7538462 (26)\ttotal: 777ms\tremaining: 1.09s\n",
      "50:\tlearn: 0.8072289\ttest: 0.7384615\tbest: 0.7538462 (26)\ttotal: 797ms\tremaining: 1.08s\n",
      "51:\tlearn: 0.8104839\ttest: 0.7441860\tbest: 0.7538462 (26)\ttotal: 817ms\tremaining: 1.07s\n",
      "52:\tlearn: 0.8145161\ttest: 0.7328244\tbest: 0.7538462 (26)\ttotal: 852ms\tremaining: 1.08s\n",
      "53:\tlearn: 0.8121212\ttest: 0.7328244\tbest: 0.7538462 (26)\ttotal: 871ms\tremaining: 1.06s\n",
      "54:\tlearn: 0.8145161\ttest: 0.7096774\tbest: 0.7538462 (26)\ttotal: 891ms\tremaining: 1.05s\n",
      "55:\tlearn: 0.8145161\ttest: 0.7200000\tbest: 0.7538462 (26)\ttotal: 911ms\tremaining: 1.04s\n",
      "56:\tlearn: 0.8209256\ttest: 0.7200000\tbest: 0.7538462 (26)\ttotal: 931ms\tremaining: 1.03s\n",
      "57:\tlearn: 0.8249497\ttest: 0.7200000\tbest: 0.7538462 (26)\ttotal: 950ms\tremaining: 1.01s\n",
      "58:\tlearn: 0.8253968\ttest: 0.7200000\tbest: 0.7538462 (26)\ttotal: 968ms\tremaining: 1s\n",
      "59:\tlearn: 0.8310139\ttest: 0.7096774\tbest: 0.7538462 (26)\ttotal: 989ms\tremaining: 989ms\n",
      "60:\tlearn: 0.8423154\ttest: 0.6991870\tbest: 0.7538462 (26)\ttotal: 1.01s\tremaining: 975ms\n",
      "61:\tlearn: 0.8492063\ttest: 0.6991870\tbest: 0.7538462 (26)\ttotal: 1.03s\tremaining: 960ms\n",
      "62:\tlearn: 0.8492063\ttest: 0.6991870\tbest: 0.7538462 (26)\ttotal: 1.04s\tremaining: 946ms\n",
      "63:\tlearn: 0.8531746\ttest: 0.6935484\tbest: 0.7538462 (26)\ttotal: 1.07s\tremaining: 933ms\n",
      "64:\tlearn: 0.8599606\ttest: 0.6935484\tbest: 0.7538462 (26)\ttotal: 1.09s\tremaining: 921ms\n",
      "65:\tlearn: 0.8571429\ttest: 0.7131783\tbest: 0.7538462 (26)\ttotal: 1.1s\tremaining: 905ms\n",
      "66:\tlearn: 0.8571429\ttest: 0.7131783\tbest: 0.7538462 (26)\ttotal: 1.13s\tremaining: 891ms\n",
      "67:\tlearn: 0.8588235\ttest: 0.7076923\tbest: 0.7538462 (26)\ttotal: 1.15s\tremaining: 880ms\n",
      "68:\tlearn: 0.8678501\ttest: 0.6984127\tbest: 0.7538462 (26)\ttotal: 1.18s\tremaining: 869ms\n",
      "69:\tlearn: 0.8656126\ttest: 0.7086614\tbest: 0.7538462 (26)\ttotal: 1.2s\tremaining: 855ms\n",
      "70:\tlearn: 0.8700787\ttest: 0.6976744\tbest: 0.7538462 (26)\ttotal: 1.22s\tremaining: 841ms\n",
      "71:\tlearn: 0.8678501\ttest: 0.6976744\tbest: 0.7538462 (26)\ttotal: 1.24s\tremaining: 825ms\n",
      "72:\tlearn: 0.8722986\ttest: 0.6976744\tbest: 0.7538462 (26)\ttotal: 1.26s\tremaining: 810ms\n",
      "73:\tlearn: 0.8767123\ttest: 0.6976744\tbest: 0.7538462 (26)\ttotal: 1.28s\tremaining: 795ms\n",
      "74:\tlearn: 0.8722986\ttest: 0.7086614\tbest: 0.7538462 (26)\ttotal: 1.3s\tremaining: 779ms\n",
      "75:\tlearn: 0.8722986\ttest: 0.7031250\tbest: 0.7538462 (26)\ttotal: 1.32s\tremaining: 762ms\n",
      "76:\tlearn: 0.8722986\ttest: 0.7086614\tbest: 0.7538462 (26)\ttotal: 1.34s\tremaining: 746ms\n",
      "77:\tlearn: 0.8789063\ttest: 0.7086614\tbest: 0.7538462 (26)\ttotal: 1.36s\tremaining: 730ms\n",
      "78:\tlearn: 0.8854369\ttest: 0.7244094\tbest: 0.7538462 (26)\ttotal: 1.38s\tremaining: 714ms\n",
      "79:\tlearn: 0.8893204\ttest: 0.7187500\tbest: 0.7538462 (26)\ttotal: 1.4s\tremaining: 698ms\n",
      "80:\tlearn: 0.8867188\ttest: 0.7187500\tbest: 0.7538462 (26)\ttotal: 1.41s\tremaining: 681ms\n",
      "81:\tlearn: 0.8867188\ttest: 0.7187500\tbest: 0.7538462 (26)\ttotal: 1.43s\tremaining: 665ms\n",
      "82:\tlearn: 0.8867188\ttest: 0.7187500\tbest: 0.7538462 (26)\ttotal: 1.46s\tremaining: 649ms\n",
      "83:\tlearn: 0.8918919\ttest: 0.7086614\tbest: 0.7538462 (26)\ttotal: 1.47s\tremaining: 632ms\n",
      "84:\tlearn: 0.8897485\ttest: 0.7086614\tbest: 0.7538462 (26)\ttotal: 1.49s\tremaining: 615ms\n",
      "85:\tlearn: 0.8957529\ttest: 0.7031250\tbest: 0.7538462 (26)\ttotal: 1.51s\tremaining: 598ms\n",
      "86:\tlearn: 0.8978805\ttest: 0.7076923\tbest: 0.7538462 (26)\ttotal: 1.53s\tremaining: 582ms\n",
      "87:\tlearn: 0.8996139\ttest: 0.7076923\tbest: 0.7538462 (26)\ttotal: 1.56s\tremaining: 569ms\n",
      "88:\tlearn: 0.9017341\ttest: 0.7076923\tbest: 0.7538462 (26)\ttotal: 1.58s\tremaining: 552ms\n",
      "89:\tlearn: 0.8996139\ttest: 0.6976744\tbest: 0.7538462 (26)\ttotal: 1.6s\tremaining: 534ms\n",
      "90:\tlearn: 0.9017341\ttest: 0.7076923\tbest: 0.7538462 (26)\ttotal: 1.62s\tremaining: 517ms\n",
      "91:\tlearn: 0.9059501\ttest: 0.7076923\tbest: 0.7538462 (26)\ttotal: 1.64s\tremaining: 500ms\n",
      "92:\tlearn: 0.9076923\ttest: 0.7076923\tbest: 0.7538462 (26)\ttotal: 1.66s\tremaining: 483ms\n",
      "93:\tlearn: 0.9038462\ttest: 0.7031250\tbest: 0.7538462 (26)\ttotal: 1.68s\tremaining: 466ms\n",
      "94:\tlearn: 0.9017341\ttest: 0.6875000\tbest: 0.7538462 (26)\ttotal: 1.71s\tremaining: 449ms\n",
      "95:\tlearn: 0.9034749\ttest: 0.6875000\tbest: 0.7538462 (26)\ttotal: 1.73s\tremaining: 434ms\n",
      "96:\tlearn: 0.9034749\ttest: 0.6771654\tbest: 0.7538462 (26)\ttotal: 1.76s\tremaining: 418ms\n",
      "97:\tlearn: 0.9073359\ttest: 0.6929134\tbest: 0.7538462 (26)\ttotal: 1.78s\tremaining: 400ms\n",
      "98:\tlearn: 0.9073359\ttest: 0.6929134\tbest: 0.7538462 (26)\ttotal: 1.81s\tremaining: 383ms\n",
      "99:\tlearn: 0.9094412\ttest: 0.6825397\tbest: 0.7538462 (26)\ttotal: 1.83s\tremaining: 366ms\n",
      "100:\tlearn: 0.9097889\ttest: 0.6929134\tbest: 0.7538462 (26)\ttotal: 1.85s\tremaining: 348ms\n",
      "101:\tlearn: 0.9097889\ttest: 0.6875000\tbest: 0.7538462 (26)\ttotal: 1.87s\tremaining: 330ms\n",
      "102:\tlearn: 0.9080460\ttest: 0.6929134\tbest: 0.7538462 (26)\ttotal: 1.89s\tremaining: 312ms\n",
      "103:\tlearn: 0.9139579\ttest: 0.6929134\tbest: 0.7538462 (26)\ttotal: 1.91s\tremaining: 294ms\n",
      "104:\tlearn: 0.9160305\ttest: 0.6875000\tbest: 0.7538462 (26)\ttotal: 1.93s\tremaining: 276ms\n",
      "105:\tlearn: 0.9198473\ttest: 0.6821705\tbest: 0.7538462 (26)\ttotal: 1.95s\tremaining: 258ms\n",
      "106:\tlearn: 0.9198473\ttest: 0.6821705\tbest: 0.7538462 (26)\ttotal: 1.97s\tremaining: 240ms\n",
      "107:\tlearn: 0.9198473\ttest: 0.6923077\tbest: 0.7538462 (26)\ttotal: 1.99s\tremaining: 221ms\n",
      "108:\tlearn: 0.9198473\ttest: 0.6821705\tbest: 0.7538462 (26)\ttotal: 2.01s\tremaining: 203ms\n",
      "109:\tlearn: 0.9280303\ttest: 0.7014925\tbest: 0.7538462 (26)\ttotal: 2.03s\tremaining: 185ms\n",
      "110:\tlearn: 0.9259962\ttest: 0.7014925\tbest: 0.7538462 (26)\ttotal: 2.06s\tremaining: 167ms\n",
      "111:\tlearn: 0.9300567\ttest: 0.6911765\tbest: 0.7538462 (26)\ttotal: 2.08s\tremaining: 149ms\n",
      "112:\tlearn: 0.9318182\ttest: 0.6962963\tbest: 0.7538462 (26)\ttotal: 2.12s\tremaining: 131ms\n",
      "113:\tlearn: 0.9318182\ttest: 0.6962963\tbest: 0.7538462 (26)\ttotal: 2.14s\tremaining: 113ms\n",
      "114:\tlearn: 0.9318182\ttest: 0.6962963\tbest: 0.7538462 (26)\ttotal: 2.16s\tremaining: 93.9ms\n",
      "115:\tlearn: 0.9318182\ttest: 0.7014925\tbest: 0.7538462 (26)\ttotal: 2.18s\tremaining: 75.2ms\n",
      "116:\tlearn: 0.9318182\ttest: 0.7014925\tbest: 0.7538462 (26)\ttotal: 2.2s\tremaining: 56.5ms\n",
      "117:\tlearn: 0.9297913\ttest: 0.7014925\tbest: 0.7538462 (26)\ttotal: 2.22s\tremaining: 37.7ms\n",
      "118:\tlearn: 0.9297913\ttest: 0.7014925\tbest: 0.7538462 (26)\ttotal: 2.24s\tremaining: 18.9ms\n",
      "119:\tlearn: 0.9338374\ttest: 0.7014925\tbest: 0.7538462 (26)\ttotal: 2.27s\tremaining: 0us\n",
      "\n",
      "bestTest = 0.7538461538\n",
      "bestIteration = 26\n",
      "\n"
     ]
    }
   ],
   "source": [
    "import joblib\n",
    "from ARISA_DSML.train import train_cv\n",
    "params = joblib.load(best_params_path)\n",
    "display(params)\n",
    "n_folds = 5\n",
    "cv_output_path = train_cv(X_train, y_train, categorical_indices, params, n=n_folds)"
   ]
  },
  {
   "cell_type": "markdown",
   "id": "9c2f4247-6cbf-4528-ba59-bf4f375dad64",
   "metadata": {
    "editable": false,
    "slideshow": {
     "slide_type": "slide"
    },
    "tags": []
   },
   "source": [
    "And get the performance plots:"
   ]
  },
  {
   "cell_type": "code",
   "execution_count": null,
   "id": "64beb22b",
   "metadata": {},
   "outputs": [
    {
     "data": {
      "application/vnd.plotly.v1+json": {
       "config": {
        "plotlyServerURL": "https://plot.ly"
       },
       "data": [
        {
         "line": {
          "color": "blue"
         },
         "mode": "lines",
         "name": "Mean F1 Score",
         "type": "scatter",
         "x": {
          "bdata": "AAECAwQFBgcICQoLDA0ODxAREhMUFRYXGBkaGxwdHh8gISIjJCUmJygpKissLS4vMDEyMzQ1Njc4OTo7PD0+P0BBQkNERUZHSElKS0xNTk9QUVJTVFVWV1hZWltcXV5fYGFiY2RlZmdoaWprbG1ub3BxcnN0dXZ3",
          "dtype": "i1"
         },
         "y": {
          "bdata": "yNhWgX2q5j+QuPM09kDmP1VHbxoJ0eY/wlx20BPG5j+aSTBh62/nPwYwN74wx+Y/RkxFd0jM5j8bXje7uFTnP2wQFxAsbec/pvDqHJCn5z/QhU2arOjmP2ql3Qw1fec/oI6HKfyX5z8w/OJbXO7mP91pQoThAOc/FssPZisp5z/Rs4TnrHvnP06zUlud1ec/GrmYb5cW6D9OlXqkPPLnP+aFETeeFOg/709pIoX15z/6yt4X1hnoPzefFNClLeg/0HA4gtIk6D8xrx++skToP2OHmeweQeg/YdiV+icH6D8TZwSiZtLnP0oeiKfT9uc/qDf8YV4w6D+08IM3VCnoP6aDLPAvPeg/LfuSYhoi6D8UxohKh+/nP/+vE9H29ec/ciislYgW6D8ppeKuuO3nP8kj5vky9uc/vurapa4M6D88qlKJJlboP4TK/G3sQug/82+NU7RR6D9WSVPZVkjoP51I38EcTug//na5aic66D8vYt3htS/oPw4IjolBMOg/XOiS1yE16D9emSsCiifoP0ByMJdFGeg/CpmMY0wa6D9ZSx5zQN7nP4KuHwy91Oc/Z08pehy/5z+i1Sn2quDnP+6evPc86uc/mFH4dYfb5z96Htx4O8vnPxrK64I3w+c/CcrYgQey5z8MKAZJxsDnP7L3bC8p5ec/qifZLuzb5z8GKJM6CdnnP6G3NxnC7Oc/ap4xT5Di5z8OPtpVYc3nP+iDuDkVx+c/ks3HK3vt5z8mMtTJwuTnPyYy1MnC5Oc/JjLUycLk5z/qPtIZj8XnP4gw9xO8zuc/4rBzEMO05z91GO0PWLznP4js7WhLjOc/Fz6WOamr5z+uNYYFYajnP/jt9v0+h+c/6vVD4IWP5z/Cht5aIHjnPwKx8W1VeOc/dVKYOXVv5z9FaFNA+GDnPwveAxbCX+c/qo/nSPcx5z+sGCx6uBHnP4bN/aAiIOc/ej6kb4ww5z9IDNHPm0DnP/fVHBPBdec/5vMuaEVu5z+idM+/y2PnP6J0z7/LY+c/UwEI1vty5z+FkjuMdFrnP3v83WsXSuc/ex7cxnso5z81hhzgiSvnP7rJ9AoZEOc/qQtmEMY55z/6NsJ7Rg7nP6rjpu0EBOc/Ovx4lYAv5z86/HiVgC/nPxq5W+/VSec/fRhkeLdJ5z/Krlko3GPnPxNaF9V4Uuc/VbrIuuAt5z9YXeHyQTbnP40S90ANHOc/rpUyxhcs5z/N6392RmbnP54PVR7PXec/rfygunVW5z/rhjhrX07nP+vH4/yhPec/",
          "dtype": "f8"
         }
        },
        {
         "fill": "toself",
         "fillcolor": "rgba(0, 0, 255, 0.2)",
         "line": {
          "color": "rgba(255, 255, 255, 0)"
         },
         "showlegend": false,
         "type": "scatter",
         "x": {
          "bdata": "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",
          "dtype": "f8"
         },
         "y": {
          "bdata": "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",
          "dtype": "f8"
         }
        }
       ],
       "layout": {
        "template": {
         "data": {
          "bar": [
           {
            "error_x": {
             "color": "#2a3f5f"
            },
            "error_y": {
             "color": "#2a3f5f"
            },
            "marker": {
             "line": {
              "color": "white",
              "width": 0.5
             },
             "pattern": {
              "fillmode": "overlay",
              "size": 10,
              "solidity": 0.2
             }
            },
            "type": "bar"
           }
          ],
          "barpolar": [
           {
            "marker": {
             "line": {
              "color": "white",
              "width": 0.5
             },
             "pattern": {
              "fillmode": "overlay",
              "size": 10,
              "solidity": 0.2
             }
            },
            "type": "barpolar"
           }
          ],
          "carpet": [
           {
            "aaxis": {
             "endlinecolor": "#2a3f5f",
             "gridcolor": "#C8D4E3",
             "linecolor": "#C8D4E3",
             "minorgridcolor": "#C8D4E3",
             "startlinecolor": "#2a3f5f"
            },
            "baxis": {
             "endlinecolor": "#2a3f5f",
             "gridcolor": "#C8D4E3",
             "linecolor": "#C8D4E3",
             "minorgridcolor": "#C8D4E3",
             "startlinecolor": "#2a3f5f"
            },
            "type": "carpet"
           }
          ],
          "choropleth": [
           {
            "colorbar": {
             "outlinewidth": 0,
             "ticks": ""
            },
            "type": "choropleth"
           }
          ],
          "contour": [
           {
            "colorbar": {
             "outlinewidth": 0,
             "ticks": ""
            },
            "colorscale": [
             [
              0,
              "#0d0887"
             ],
             [
              0.1111111111111111,
              "#46039f"
             ],
             [
              0.2222222222222222,
              "#7201a8"
             ],
             [
              0.3333333333333333,
              "#9c179e"
             ],
             [
              0.4444444444444444,
              "#bd3786"
             ],
             [
              0.5555555555555556,
              "#d8576b"
             ],
             [
              0.6666666666666666,
              "#ed7953"
             ],
             [
              0.7777777777777778,
              "#fb9f3a"
             ],
             [
              0.8888888888888888,
              "#fdca26"
             ],
             [
              1,
              "#f0f921"
             ]
            ],
            "type": "contour"
           }
          ],
          "contourcarpet": [
           {
            "colorbar": {
             "outlinewidth": 0,
             "ticks": ""
            },
            "type": "contourcarpet"
           }
          ],
          "heatmap": [
           {
            "colorbar": {
             "outlinewidth": 0,
             "ticks": ""
            },
            "colorscale": [
             [
              0,
              "#0d0887"
             ],
             [
              0.1111111111111111,
              "#46039f"
             ],
             [
              0.2222222222222222,
              "#7201a8"
             ],
             [
              0.3333333333333333,
              "#9c179e"
             ],
             [
              0.4444444444444444,
              "#bd3786"
             ],
             [
              0.5555555555555556,
              "#d8576b"
             ],
             [
              0.6666666666666666,
              "#ed7953"
             ],
             [
              0.7777777777777778,
              "#fb9f3a"
             ],
             [
              0.8888888888888888,
              "#fdca26"
             ],
             [
              1,
              "#f0f921"
             ]
            ],
            "type": "heatmap"
           }
          ],
          "histogram": [
           {
            "marker": {
             "pattern": {
              "fillmode": "overlay",
              "size": 10,
              "solidity": 0.2
             }
            },
            "type": "histogram"
           }
          ],
          "histogram2d": [
           {
            "colorbar": {
             "outlinewidth": 0,
             "ticks": ""
            },
            "colorscale": [
             [
              0,
              "#0d0887"
             ],
             [
              0.1111111111111111,
              "#46039f"
             ],
             [
              0.2222222222222222,
              "#7201a8"
             ],
             [
              0.3333333333333333,
              "#9c179e"
             ],
             [
              0.4444444444444444,
              "#bd3786"
             ],
             [
              0.5555555555555556,
              "#d8576b"
             ],
             [
              0.6666666666666666,
              "#ed7953"
             ],
             [
              0.7777777777777778,
              "#fb9f3a"
             ],
             [
              0.8888888888888888,
              "#fdca26"
             ],
             [
              1,
              "#f0f921"
             ]
            ],
            "type": "histogram2d"
           }
          ],
          "histogram2dcontour": [
           {
            "colorbar": {
             "outlinewidth": 0,
             "ticks": ""
            },
            "colorscale": [
             [
              0,
              "#0d0887"
             ],
             [
              0.1111111111111111,
              "#46039f"
             ],
             [
              0.2222222222222222,
              "#7201a8"
             ],
             [
              0.3333333333333333,
              "#9c179e"
             ],
             [
              0.4444444444444444,
              "#bd3786"
             ],
             [
              0.5555555555555556,
              "#d8576b"
             ],
             [
              0.6666666666666666,
              "#ed7953"
             ],
             [
              0.7777777777777778,
              "#fb9f3a"
             ],
             [
              0.8888888888888888,
              "#fdca26"
             ],
             [
              1,
              "#f0f921"
             ]
            ],
            "type": "histogram2dcontour"
           }
          ],
          "mesh3d": [
           {
            "colorbar": {
             "outlinewidth": 0,
             "ticks": ""
            },
            "type": "mesh3d"
           }
          ],
          "parcoords": [
           {
            "line": {
             "colorbar": {
              "outlinewidth": 0,
              "ticks": ""
             }
            },
            "type": "parcoords"
           }
          ],
          "pie": [
           {
            "automargin": true,
            "type": "pie"
           }
          ],
          "scatter": [
           {
            "fillpattern": {
             "fillmode": "overlay",
             "size": 10,
             "solidity": 0.2
            },
            "type": "scatter"
           }
          ],
          "scatter3d": [
           {
            "line": {
             "colorbar": {
              "outlinewidth": 0,
              "ticks": ""
             }
            },
            "marker": {
             "colorbar": {
              "outlinewidth": 0,
              "ticks": ""
             }
            },
            "type": "scatter3d"
           }
          ],
          "scattercarpet": [
           {
            "marker": {
             "colorbar": {
              "outlinewidth": 0,
              "ticks": ""
             }
            },
            "type": "scattercarpet"
           }
          ],
          "scattergeo": [
           {
            "marker": {
             "colorbar": {
              "outlinewidth": 0,
              "ticks": ""
             }
            },
            "type": "scattergeo"
           }
          ],
          "scattergl": [
           {
            "marker": {
             "colorbar": {
              "outlinewidth": 0,
              "ticks": ""
             }
            },
            "type": "scattergl"
           }
          ],
          "scattermap": [
           {
            "marker": {
             "colorbar": {
              "outlinewidth": 0,
              "ticks": ""
             }
            },
            "type": "scattermap"
           }
          ],
          "scattermapbox": [
           {
            "marker": {
             "colorbar": {
              "outlinewidth": 0,
              "ticks": ""
             }
            },
            "type": "scattermapbox"
           }
          ],
          "scatterpolar": [
           {
            "marker": {
             "colorbar": {
              "outlinewidth": 0,
              "ticks": ""
             }
            },
            "type": "scatterpolar"
           }
          ],
          "scatterpolargl": [
           {
            "marker": {
             "colorbar": {
              "outlinewidth": 0,
              "ticks": ""
             }
            },
            "type": "scatterpolargl"
           }
          ],
          "scatterternary": [
           {
            "marker": {
             "colorbar": {
              "outlinewidth": 0,
              "ticks": ""
             }
            },
            "type": "scatterternary"
           }
          ],
          "surface": [
           {
            "colorbar": {
             "outlinewidth": 0,
             "ticks": ""
            },
            "colorscale": [
             [
              0,
              "#0d0887"
             ],
             [
              0.1111111111111111,
              "#46039f"
             ],
             [
              0.2222222222222222,
              "#7201a8"
             ],
             [
              0.3333333333333333,
              "#9c179e"
             ],
             [
              0.4444444444444444,
              "#bd3786"
             ],
             [
              0.5555555555555556,
              "#d8576b"
             ],
             [
              0.6666666666666666,
              "#ed7953"
             ],
             [
              0.7777777777777778,
              "#fb9f3a"
             ],
             [
              0.8888888888888888,
              "#fdca26"
             ],
             [
              1,
              "#f0f921"
             ]
            ],
            "type": "surface"
           }
          ],
          "table": [
           {
            "cells": {
             "fill": {
              "color": "#EBF0F8"
             },
             "line": {
              "color": "white"
             }
            },
            "header": {
             "fill": {
              "color": "#C8D4E3"
             },
             "line": {
              "color": "white"
             }
            },
            "type": "table"
           }
          ]
         },
         "layout": {
          "annotationdefaults": {
           "arrowcolor": "#2a3f5f",
           "arrowhead": 0,
           "arrowwidth": 1
          },
          "autotypenumbers": "strict",
          "coloraxis": {
           "colorbar": {
            "outlinewidth": 0,
            "ticks": ""
           }
          },
          "colorscale": {
           "diverging": [
            [
             0,
             "#8e0152"
            ],
            [
             0.1,
             "#c51b7d"
            ],
            [
             0.2,
             "#de77ae"
            ],
            [
             0.3,
             "#f1b6da"
            ],
            [
             0.4,
             "#fde0ef"
            ],
            [
             0.5,
             "#f7f7f7"
            ],
            [
             0.6,
             "#e6f5d0"
            ],
            [
             0.7,
             "#b8e186"
            ],
            [
             0.8,
             "#7fbc41"
            ],
            [
             0.9,
             "#4d9221"
            ],
            [
             1,
             "#276419"
            ]
           ],
           "sequential": [
            [
             0,
             "#0d0887"
            ],
            [
             0.1111111111111111,
             "#46039f"
            ],
            [
             0.2222222222222222,
             "#7201a8"
            ],
            [
             0.3333333333333333,
             "#9c179e"
            ],
            [
             0.4444444444444444,
             "#bd3786"
            ],
            [
             0.5555555555555556,
             "#d8576b"
            ],
            [
             0.6666666666666666,
             "#ed7953"
            ],
            [
             0.7777777777777778,
             "#fb9f3a"
            ],
            [
             0.8888888888888888,
             "#fdca26"
            ],
            [
             1,
             "#f0f921"
            ]
           ],
           "sequentialminus": [
            [
             0,
             "#0d0887"
            ],
            [
             0.1111111111111111,
             "#46039f"
            ],
            [
             0.2222222222222222,
             "#7201a8"
            ],
            [
             0.3333333333333333,
             "#9c179e"
            ],
            [
             0.4444444444444444,
             "#bd3786"
            ],
            [
             0.5555555555555556,
             "#d8576b"
            ],
            [
             0.6666666666666666,
             "#ed7953"
            ],
            [
             0.7777777777777778,
             "#fb9f3a"
            ],
            [
             0.8888888888888888,
             "#fdca26"
            ],
            [
             1,
             "#f0f921"
            ]
           ]
          },
          "colorway": [
           "#636efa",
           "#EF553B",
           "#00cc96",
           "#ab63fa",
           "#FFA15A",
           "#19d3f3",
           "#FF6692",
           "#B6E880",
           "#FF97FF",
           "#FECB52"
          ],
          "font": {
           "color": "#2a3f5f"
          },
          "geo": {
           "bgcolor": "white",
           "lakecolor": "white",
           "landcolor": "white",
           "showlakes": true,
           "showland": true,
           "subunitcolor": "#C8D4E3"
          },
          "hoverlabel": {
           "align": "left"
          },
          "hovermode": "closest",
          "mapbox": {
           "style": "light"
          },
          "paper_bgcolor": "white",
          "plot_bgcolor": "white",
          "polar": {
           "angularaxis": {
            "gridcolor": "#EBF0F8",
            "linecolor": "#EBF0F8",
            "ticks": ""
           },
           "bgcolor": "white",
           "radialaxis": {
            "gridcolor": "#EBF0F8",
            "linecolor": "#EBF0F8",
            "ticks": ""
           }
          },
          "scene": {
           "xaxis": {
            "backgroundcolor": "white",
            "gridcolor": "#DFE8F3",
            "gridwidth": 2,
            "linecolor": "#EBF0F8",
            "showbackground": true,
            "ticks": "",
            "zerolinecolor": "#EBF0F8"
           },
           "yaxis": {
            "backgroundcolor": "white",
            "gridcolor": "#DFE8F3",
            "gridwidth": 2,
            "linecolor": "#EBF0F8",
            "showbackground": true,
            "ticks": "",
            "zerolinecolor": "#EBF0F8"
           },
           "zaxis": {
            "backgroundcolor": "white",
            "gridcolor": "#DFE8F3",
            "gridwidth": 2,
            "linecolor": "#EBF0F8",
            "showbackground": true,
            "ticks": "",
            "zerolinecolor": "#EBF0F8"
           }
          },
          "shapedefaults": {
           "line": {
            "color": "#2a3f5f"
           }
          },
          "ternary": {
           "aaxis": {
            "gridcolor": "#DFE8F3",
            "linecolor": "#A2B1C6",
            "ticks": ""
           },
           "baxis": {
            "gridcolor": "#DFE8F3",
            "linecolor": "#A2B1C6",
            "ticks": ""
           },
           "bgcolor": "white",
           "caxis": {
            "gridcolor": "#DFE8F3",
            "linecolor": "#A2B1C6",
            "ticks": ""
           }
          },
          "title": {
           "x": 0.05
          },
          "xaxis": {
           "automargin": true,
           "gridcolor": "#EBF0F8",
           "linecolor": "#EBF0F8",
           "ticks": "",
           "title": {
            "standoff": 15
           },
           "zerolinecolor": "#EBF0F8",
           "zerolinewidth": 2
          },
          "yaxis": {
           "automargin": true,
           "gridcolor": "#EBF0F8",
           "linecolor": "#EBF0F8",
           "ticks": "",
           "title": {
            "standoff": 15
           },
           "zerolinecolor": "#EBF0F8",
           "zerolinewidth": 2
          }
         }
        },
        "title": {
         "text": "Cross-Validation (N=5) Mean F1 score with Error Bands"
        },
        "xaxis": {
         "title": {
          "text": "Training Steps"
         }
        },
        "yaxis": {
         "range": [
          0.5,
          1
         ],
         "title": {
          "text": "Performance Score"
         }
        }
       }
      }
     },
     "metadata": {},
     "output_type": "display_data"
    }
   ],
   "source": [
    "from ARISA_DSML.train import plot_error_scatter\n",
    "cv_results = pd.read_csv(cv_output_path)\n",
    "plot_error_scatter(\n",
    "    df_plot=cv_results,\n",
    "    name=\"Mean F1 Score\",\n",
    "    title=\"Cross-Validation (N=5) Mean F1 score with Error Bands\",\n",
    "    xtitle=\"Training Steps\",\n",
    "    ytitle=\"Performance Score\",\n",
    "    yaxis_range=[0.5, 1],\n",
    ")"
   ]
  },
  {
   "cell_type": "code",
   "execution_count": null,
   "id": "d77edfd5",
   "metadata": {},
   "outputs": [
    {
     "data": {
      "application/vnd.plotly.v1+json": {
       "config": {
        "plotlyServerURL": "https://plot.ly"
       },
       "data": [
        {
         "line": {
          "color": "blue"
         },
         "mode": "lines",
         "name": "Mean logloss",
         "type": "scatter",
         "x": {
          "bdata": "AAECAwQFBgcICQoLDA0ODxAREhMUFRYXGBkaGxwdHh8gISIjJCUmJygpKissLS4vMDEyMzQ1Njc4OTo7PD0+P0BBQkNERUZHSElKS0xNTk9QUVJTVFVWV1hZWltcXV5fYGFiY2Q=",
          "dtype": "i1"
         },
         "y": {
          "bdata": "XaJjYJRt4j/2LhZl1iHhPw8SCsT9VeA/tStIuCbo3j/1at/lLwXeP7qbLDbHzt0/Qj/Mi7xh3T/zpFnd0vHcP5WqOhUPpNw/meQhlQqa3D+93QPjV3zcP30IBT5cZdw/57QydBNW3D+vlS7ggUDcP5bAC+6cYNw/B6+UkMtW3D/xdv5TGkncPzgZy4IfTdw/wPGdc2tK3D9jNbORAzfcPwWfYjfgENw/2USd7Soa3D+rmTyVORncP0Gw+ddTB9w/oKUbRN8a3D8Vbj/Ml+3bPzu/HrFD8ts/MNNNP/fB2z/Ve9nK66LbP5p1nUmctds/O4qC49y92z/fYOLlNabbP/8CrrTkZNs/siy9Nkhr2z/Nx7FB3V3bP/PfoidPYNs/nZmtxxV32z9VvtosmHjbP3VS8NSESts/u239NR9i2z/9HI0HSWrbP8hjp/eNjds/G0VrEqJ92z9qVW+NBobbPyVq4Aovjds/Mir0n6qN2z83XsKE7qnbP8i1/Vkus9s/Ta62LE+m2z+hhIOUGrHbP3Co495Vhds/M/es4RmL2z8w4LWhop7bP60F3yrRmds/P/MWIFCU2z+F3/3Xml/bP4wYVQBvUds/BZOiO9tT2z9FLXKugmLbP/WhQov6YNs/9bukswGc2z84XKSzDJnbPzXwYbkKfNs/NVONi15x2z9U5gZsiIvbP9jT6EJHkds/d2Zy5DJv2z+uiNjitXbbP6HtTnPhc9s/xipieXt92z9ZJJVCvXbbP0h2LnYAmNs/4JROtHim2z+Z7oy32rPbP2XIYU5mq9s/dT/UT0Ke2z9W1zGJdb/bP/2OU5otyds/qicFO9DA2z/hiHDqVLDbPwnwD8Yiwds/NRyMUxK12z/LBT4rAK7bP/XSCYUBsNs/+qx+wuWm2z+lmE78aMbbP8135Mwjxds/OqE5Zfzb2z/vZCBKRr3bP3W4zw88tts/B3lkHSXC2z+n/hF9yLPbP51my5hMrts/JpqCrOOx2z8VcxH0nanbP+lBFJUmrts/CC3xRi232z9R/X+KGNnbP5V0vHE/1Ns/ylKX+yzy2z/C2wKHmgzcPw==",
          "dtype": "f8"
         }
        },
        {
         "fill": "toself",
         "fillcolor": "rgba(0, 0, 255, 0.2)",
         "line": {
          "color": "rgba(255, 255, 255, 0)"
         },
         "showlegend": false,
         "type": "scatter",
         "x": {
          "bdata": "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",
          "dtype": "f8"
         },
         "y": {
          "bdata": "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",
          "dtype": "f8"
         }
        }
       ],
       "layout": {
        "template": {
         "data": {
          "bar": [
           {
            "error_x": {
             "color": "#2a3f5f"
            },
            "error_y": {
             "color": "#2a3f5f"
            },
            "marker": {
             "line": {
              "color": "white",
              "width": 0.5
             },
             "pattern": {
              "fillmode": "overlay",
              "size": 10,
              "solidity": 0.2
             }
            },
            "type": "bar"
           }
          ],
          "barpolar": [
           {
            "marker": {
             "line": {
              "color": "white",
              "width": 0.5
             },
             "pattern": {
              "fillmode": "overlay",
              "size": 10,
              "solidity": 0.2
             }
            },
            "type": "barpolar"
           }
          ],
          "carpet": [
           {
            "aaxis": {
             "endlinecolor": "#2a3f5f",
             "gridcolor": "#C8D4E3",
             "linecolor": "#C8D4E3",
             "minorgridcolor": "#C8D4E3",
             "startlinecolor": "#2a3f5f"
            },
            "baxis": {
             "endlinecolor": "#2a3f5f",
             "gridcolor": "#C8D4E3",
             "linecolor": "#C8D4E3",
             "minorgridcolor": "#C8D4E3",
             "startlinecolor": "#2a3f5f"
            },
            "type": "carpet"
           }
          ],
          "choropleth": [
           {
            "colorbar": {
             "outlinewidth": 0,
             "ticks": ""
            },
            "type": "choropleth"
           }
          ],
          "contour": [
           {
            "colorbar": {
             "outlinewidth": 0,
             "ticks": ""
            },
            "colorscale": [
             [
              0,
              "#0d0887"
             ],
             [
              0.1111111111111111,
              "#46039f"
             ],
             [
              0.2222222222222222,
              "#7201a8"
             ],
             [
              0.3333333333333333,
              "#9c179e"
             ],
             [
              0.4444444444444444,
              "#bd3786"
             ],
             [
              0.5555555555555556,
              "#d8576b"
             ],
             [
              0.6666666666666666,
              "#ed7953"
             ],
             [
              0.7777777777777778,
              "#fb9f3a"
             ],
             [
              0.8888888888888888,
              "#fdca26"
             ],
             [
              1,
              "#f0f921"
             ]
            ],
            "type": "contour"
           }
          ],
          "contourcarpet": [
           {
            "colorbar": {
             "outlinewidth": 0,
             "ticks": ""
            },
            "type": "contourcarpet"
           }
          ],
          "heatmap": [
           {
            "colorbar": {
             "outlinewidth": 0,
             "ticks": ""
            },
            "colorscale": [
             [
              0,
              "#0d0887"
             ],
             [
              0.1111111111111111,
              "#46039f"
             ],
             [
              0.2222222222222222,
              "#7201a8"
             ],
             [
              0.3333333333333333,
              "#9c179e"
             ],
             [
              0.4444444444444444,
              "#bd3786"
             ],
             [
              0.5555555555555556,
              "#d8576b"
             ],
             [
              0.6666666666666666,
              "#ed7953"
             ],
             [
              0.7777777777777778,
              "#fb9f3a"
             ],
             [
              0.8888888888888888,
              "#fdca26"
             ],
             [
              1,
              "#f0f921"
             ]
            ],
            "type": "heatmap"
           }
          ],
          "histogram": [
           {
            "marker": {
             "pattern": {
              "fillmode": "overlay",
              "size": 10,
              "solidity": 0.2
             }
            },
            "type": "histogram"
           }
          ],
          "histogram2d": [
           {
            "colorbar": {
             "outlinewidth": 0,
             "ticks": ""
            },
            "colorscale": [
             [
              0,
              "#0d0887"
             ],
             [
              0.1111111111111111,
              "#46039f"
             ],
             [
              0.2222222222222222,
              "#7201a8"
             ],
             [
              0.3333333333333333,
              "#9c179e"
             ],
             [
              0.4444444444444444,
              "#bd3786"
             ],
             [
              0.5555555555555556,
              "#d8576b"
             ],
             [
              0.6666666666666666,
              "#ed7953"
             ],
             [
              0.7777777777777778,
              "#fb9f3a"
             ],
             [
              0.8888888888888888,
              "#fdca26"
             ],
             [
              1,
              "#f0f921"
             ]
            ],
            "type": "histogram2d"
           }
          ],
          "histogram2dcontour": [
           {
            "colorbar": {
             "outlinewidth": 0,
             "ticks": ""
            },
            "colorscale": [
             [
              0,
              "#0d0887"
             ],
             [
              0.1111111111111111,
              "#46039f"
             ],
             [
              0.2222222222222222,
              "#7201a8"
             ],
             [
              0.3333333333333333,
              "#9c179e"
             ],
             [
              0.4444444444444444,
              "#bd3786"
             ],
             [
              0.5555555555555556,
              "#d8576b"
             ],
             [
              0.6666666666666666,
              "#ed7953"
             ],
             [
              0.7777777777777778,
              "#fb9f3a"
             ],
             [
              0.8888888888888888,
              "#fdca26"
             ],
             [
              1,
              "#f0f921"
             ]
            ],
            "type": "histogram2dcontour"
           }
          ],
          "mesh3d": [
           {
            "colorbar": {
             "outlinewidth": 0,
             "ticks": ""
            },
            "type": "mesh3d"
           }
          ],
          "parcoords": [
           {
            "line": {
             "colorbar": {
              "outlinewidth": 0,
              "ticks": ""
             }
            },
            "type": "parcoords"
           }
          ],
          "pie": [
           {
            "automargin": true,
            "type": "pie"
           }
          ],
          "scatter": [
           {
            "fillpattern": {
             "fillmode": "overlay",
             "size": 10,
             "solidity": 0.2
            },
            "type": "scatter"
           }
          ],
          "scatter3d": [
           {
            "line": {
             "colorbar": {
              "outlinewidth": 0,
              "ticks": ""
             }
            },
            "marker": {
             "colorbar": {
              "outlinewidth": 0,
              "ticks": ""
             }
            },
            "type": "scatter3d"
           }
          ],
          "scattercarpet": [
           {
            "marker": {
             "colorbar": {
              "outlinewidth": 0,
              "ticks": ""
             }
            },
            "type": "scattercarpet"
           }
          ],
          "scattergeo": [
           {
            "marker": {
             "colorbar": {
              "outlinewidth": 0,
              "ticks": ""
             }
            },
            "type": "scattergeo"
           }
          ],
          "scattergl": [
           {
            "marker": {
             "colorbar": {
              "outlinewidth": 0,
              "ticks": ""
             }
            },
            "type": "scattergl"
           }
          ],
          "scattermap": [
           {
            "marker": {
             "colorbar": {
              "outlinewidth": 0,
              "ticks": ""
             }
            },
            "type": "scattermap"
           }
          ],
          "scattermapbox": [
           {
            "marker": {
             "colorbar": {
              "outlinewidth": 0,
              "ticks": ""
             }
            },
            "type": "scattermapbox"
           }
          ],
          "scatterpolar": [
           {
            "marker": {
             "colorbar": {
              "outlinewidth": 0,
              "ticks": ""
             }
            },
            "type": "scatterpolar"
           }
          ],
          "scatterpolargl": [
           {
            "marker": {
             "colorbar": {
              "outlinewidth": 0,
              "ticks": ""
             }
            },
            "type": "scatterpolargl"
           }
          ],
          "scatterternary": [
           {
            "marker": {
             "colorbar": {
              "outlinewidth": 0,
              "ticks": ""
             }
            },
            "type": "scatterternary"
           }
          ],
          "surface": [
           {
            "colorbar": {
             "outlinewidth": 0,
             "ticks": ""
            },
            "colorscale": [
             [
              0,
              "#0d0887"
             ],
             [
              0.1111111111111111,
              "#46039f"
             ],
             [
              0.2222222222222222,
              "#7201a8"
             ],
             [
              0.3333333333333333,
              "#9c179e"
             ],
             [
              0.4444444444444444,
              "#bd3786"
             ],
             [
              0.5555555555555556,
              "#d8576b"
             ],
             [
              0.6666666666666666,
              "#ed7953"
             ],
             [
              0.7777777777777778,
              "#fb9f3a"
             ],
             [
              0.8888888888888888,
              "#fdca26"
             ],
             [
              1,
              "#f0f921"
             ]
            ],
            "type": "surface"
           }
          ],
          "table": [
           {
            "cells": {
             "fill": {
              "color": "#EBF0F8"
             },
             "line": {
              "color": "white"
             }
            },
            "header": {
             "fill": {
              "color": "#C8D4E3"
             },
             "line": {
              "color": "white"
             }
            },
            "type": "table"
           }
          ]
         },
         "layout": {
          "annotationdefaults": {
           "arrowcolor": "#2a3f5f",
           "arrowhead": 0,
           "arrowwidth": 1
          },
          "autotypenumbers": "strict",
          "coloraxis": {
           "colorbar": {
            "outlinewidth": 0,
            "ticks": ""
           }
          },
          "colorscale": {
           "diverging": [
            [
             0,
             "#8e0152"
            ],
            [
             0.1,
             "#c51b7d"
            ],
            [
             0.2,
             "#de77ae"
            ],
            [
             0.3,
             "#f1b6da"
            ],
            [
             0.4,
             "#fde0ef"
            ],
            [
             0.5,
             "#f7f7f7"
            ],
            [
             0.6,
             "#e6f5d0"
            ],
            [
             0.7,
             "#b8e186"
            ],
            [
             0.8,
             "#7fbc41"
            ],
            [
             0.9,
             "#4d9221"
            ],
            [
             1,
             "#276419"
            ]
           ],
           "sequential": [
            [
             0,
             "#0d0887"
            ],
            [
             0.1111111111111111,
             "#46039f"
            ],
            [
             0.2222222222222222,
             "#7201a8"
            ],
            [
             0.3333333333333333,
             "#9c179e"
            ],
            [
             0.4444444444444444,
             "#bd3786"
            ],
            [
             0.5555555555555556,
             "#d8576b"
            ],
            [
             0.6666666666666666,
             "#ed7953"
            ],
            [
             0.7777777777777778,
             "#fb9f3a"
            ],
            [
             0.8888888888888888,
             "#fdca26"
            ],
            [
             1,
             "#f0f921"
            ]
           ],
           "sequentialminus": [
            [
             0,
             "#0d0887"
            ],
            [
             0.1111111111111111,
             "#46039f"
            ],
            [
             0.2222222222222222,
             "#7201a8"
            ],
            [
             0.3333333333333333,
             "#9c179e"
            ],
            [
             0.4444444444444444,
             "#bd3786"
            ],
            [
             0.5555555555555556,
             "#d8576b"
            ],
            [
             0.6666666666666666,
             "#ed7953"
            ],
            [
             0.7777777777777778,
             "#fb9f3a"
            ],
            [
             0.8888888888888888,
             "#fdca26"
            ],
            [
             1,
             "#f0f921"
            ]
           ]
          },
          "colorway": [
           "#636efa",
           "#EF553B",
           "#00cc96",
           "#ab63fa",
           "#FFA15A",
           "#19d3f3",
           "#FF6692",
           "#B6E880",
           "#FF97FF",
           "#FECB52"
          ],
          "font": {
           "color": "#2a3f5f"
          },
          "geo": {
           "bgcolor": "white",
           "lakecolor": "white",
           "landcolor": "white",
           "showlakes": true,
           "showland": true,
           "subunitcolor": "#C8D4E3"
          },
          "hoverlabel": {
           "align": "left"
          },
          "hovermode": "closest",
          "mapbox": {
           "style": "light"
          },
          "paper_bgcolor": "white",
          "plot_bgcolor": "white",
          "polar": {
           "angularaxis": {
            "gridcolor": "#EBF0F8",
            "linecolor": "#EBF0F8",
            "ticks": ""
           },
           "bgcolor": "white",
           "radialaxis": {
            "gridcolor": "#EBF0F8",
            "linecolor": "#EBF0F8",
            "ticks": ""
           }
          },
          "scene": {
           "xaxis": {
            "backgroundcolor": "white",
            "gridcolor": "#DFE8F3",
            "gridwidth": 2,
            "linecolor": "#EBF0F8",
            "showbackground": true,
            "ticks": "",
            "zerolinecolor": "#EBF0F8"
           },
           "yaxis": {
            "backgroundcolor": "white",
            "gridcolor": "#DFE8F3",
            "gridwidth": 2,
            "linecolor": "#EBF0F8",
            "showbackground": true,
            "ticks": "",
            "zerolinecolor": "#EBF0F8"
           },
           "zaxis": {
            "backgroundcolor": "white",
            "gridcolor": "#DFE8F3",
            "gridwidth": 2,
            "linecolor": "#EBF0F8",
            "showbackground": true,
            "ticks": "",
            "zerolinecolor": "#EBF0F8"
           }
          },
          "shapedefaults": {
           "line": {
            "color": "#2a3f5f"
           }
          },
          "ternary": {
           "aaxis": {
            "gridcolor": "#DFE8F3",
            "linecolor": "#A2B1C6",
            "ticks": ""
           },
           "baxis": {
            "gridcolor": "#DFE8F3",
            "linecolor": "#A2B1C6",
            "ticks": ""
           },
           "bgcolor": "white",
           "caxis": {
            "gridcolor": "#DFE8F3",
            "linecolor": "#A2B1C6",
            "ticks": ""
           }
          },
          "title": {
           "x": 0.05
          },
          "xaxis": {
           "automargin": true,
           "gridcolor": "#EBF0F8",
           "linecolor": "#EBF0F8",
           "ticks": "",
           "title": {
            "standoff": 15
           },
           "zerolinecolor": "#EBF0F8",
           "zerolinewidth": 2
          },
          "yaxis": {
           "automargin": true,
           "gridcolor": "#EBF0F8",
           "linecolor": "#EBF0F8",
           "ticks": "",
           "title": {
            "standoff": 15
           },
           "zerolinecolor": "#EBF0F8",
           "zerolinewidth": 2
          }
         }
        },
        "title": {
         "text": "Cross-Validation (N=5) Mean Logloss with Error Bands"
        },
        "xaxis": {
         "title": {
          "text": "Training Steps"
         }
        },
        "yaxis": {
         "title": {
          "text": "Logloss"
         }
        }
       }
      }
     },
     "metadata": {},
     "output_type": "display_data"
    }
   ],
   "source": [
    "plot_error_scatter(\n",
    "    df_plot=cv_results,\n",
    "    x=\"iterations\",\n",
    "    y=\"test-Logloss-mean\",\n",
    "    err=\"test-Logloss-std\",\n",
    "    name=\"Mean logloss\",\n",
    "    title=\"Cross-Validation (N=5) Mean Logloss with Error Bands\",\n",
    "    xtitle=\"Training Steps\",\n",
    "    ytitle=\"Logloss\",\n",
    ")\n"
   ]
  },
  {
   "cell_type": "markdown",
   "id": "660b208e-b2b8-4bd2-ae70-6f75b550d65d",
   "metadata": {
    "editable": false,
    "slideshow": {
     "slide_type": "slide"
    },
    "tags": []
   },
   "source": [
    "Fit model on full dataset:"
   ]
  },
  {
   "cell_type": "code",
   "execution_count": null,
   "id": "a8059c1d-ee28-4580-9d5d-9a9c4eb91a4b",
   "metadata": {
    "editable": true,
    "scrolled": true,
    "slideshow": {
     "slide_type": "subslide"
    },
    "tags": []
   },
   "outputs": [
    {
     "data": {
      "application/vnd.jupyter.widget-view+json": {
       "model_id": "809a2353ed8248ab83c4f0f67cdb9b29",
       "version_major": 2,
       "version_minor": 0
      },
      "text/plain": [
       "MetricVisualizer(layout=Layout(align_self='stretch', height='500px'))"
      ]
     },
     "metadata": {},
     "output_type": "display_data"
    },
    {
     "name": "stdout",
     "output_type": "stream",
     "text": [
      "0:\tlearn: 0.7114504\ttotal: 14.2ms\tremaining: 1.68s\n",
      "50:\tlearn: 0.7914110\ttotal: 639ms\tremaining: 865ms\n",
      "100:\tlearn: 0.8558282\ttotal: 1.39s\tremaining: 261ms\n",
      "119:\tlearn: 0.8646154\ttotal: 1.68s\tremaining: 0us\n"
     ]
    },
    {
     "ename": "TypeError",
     "evalue": "'NoneType' object is not subscriptable",
     "output_type": "error",
     "traceback": [
      "\u001b[31m---------------------------------------------------------------------------\u001b[39m",
      "\u001b[31mTypeError\u001b[39m                                 Traceback (most recent call last)",
      "\u001b[36mCell\u001b[39m\u001b[36m \u001b[39m\u001b[32mIn[12]\u001b[39m\u001b[32m, line 3\u001b[39m\n\u001b[32m      1\u001b[39m cv_results = pd.read_csv(cv_output_path)\n\u001b[32m      2\u001b[39m \u001b[38;5;28;01mfrom\u001b[39;00m\u001b[38;5;250m \u001b[39m\u001b[34;01mARISA_DSML\u001b[39;00m\u001b[34;01m.\u001b[39;00m\u001b[34;01mtrain\u001b[39;00m\u001b[38;5;250m \u001b[39m\u001b[38;5;28;01mimport\u001b[39;00m train\n\u001b[32m----> \u001b[39m\u001b[32m3\u001b[39m model_path, model_params_path = \u001b[43mtrain\u001b[49m\u001b[43m(\u001b[49m\u001b[43mX_train\u001b[49m\u001b[43m,\u001b[49m\u001b[43m \u001b[49m\u001b[43my_train\u001b[49m\u001b[43m,\u001b[49m\u001b[43m \u001b[49m\u001b[43mcategorical_indices\u001b[49m\u001b[43m,\u001b[49m\u001b[43m \u001b[49m\u001b[43mparams\u001b[49m\u001b[43m)\u001b[49m\n",
      "\u001b[36mFile \u001b[39m\u001b[32mc:\\Users\\Kinga\\OneDrive - Wojskowa Akademia Techniczna\\Podyplomowe\\ARISA-ML-OPS\\ARISA-MLOps\\ARISA_DSML\\train.py:132\u001b[39m, in \u001b[36mtrain\u001b[39m\u001b[34m(X_train, y_train, categorical_indices, params, artifact_name, cv_results)\u001b[39m\n\u001b[32m    130\u001b[39m model.save_model(model_path)\n\u001b[32m    131\u001b[39m mlflow.log_artifact(model_path)\n\u001b[32m--> \u001b[39m\u001b[32m132\u001b[39m cv_metric_mean = \u001b[43mcv_results\u001b[49m\u001b[43m[\u001b[49m\u001b[33;43m\"\u001b[39;49m\u001b[33;43mtest-F1-mean\u001b[39;49m\u001b[33;43m\"\u001b[39;49m\u001b[43m]\u001b[49m.mean()\n\u001b[32m    133\u001b[39m mlflow.log_metric(\u001b[33m\"\u001b[39m\u001b[33mf1_cv_mean\u001b[39m\u001b[33m\"\u001b[39m, cv_metric_mean)\n\u001b[32m    135\u001b[39m \u001b[38;5;66;03m# Log the model\u001b[39;00m\n",
      "\u001b[31mTypeError\u001b[39m: 'NoneType' object is not subscriptable"
     ]
    }
   ],
   "source": [
    "from ARISA_DSML.train import train\n",
    "model_path, model_params_path = train(X_train, y_train, categorical_indices, params)"
   ]
  },
  {
   "cell_type": "markdown",
   "id": "11d6658f-ac2b-4a8f-a872-b66bbcf4b19b",
   "metadata": {
    "editable": false,
    "slideshow": {
     "slide_type": "slide"
    },
    "tags": []
   },
   "source": [
    "And now for the test set, because of our refactor, we don't need to copy paste anymore:"
   ]
  },
  {
   "cell_type": "code",
   "execution_count": null,
   "id": "ea7b6f53-6b16-453f-b0b8-336f0b8ceee1",
   "metadata": {
    "editable": true,
    "slideshow": {
     "slide_type": "subslide"
    },
    "tags": []
   },
   "outputs": [
    {
     "data": {
      "text/html": [
       "<div>\n",
       "<style scoped>\n",
       "    .dataframe tbody tr th:only-of-type {\n",
       "        vertical-align: middle;\n",
       "    }\n",
       "\n",
       "    .dataframe tbody tr th {\n",
       "        vertical-align: top;\n",
       "    }\n",
       "\n",
       "    .dataframe thead th {\n",
       "        text-align: right;\n",
       "    }\n",
       "</style>\n",
       "<table border=\"1\" class=\"dataframe\">\n",
       "  <thead>\n",
       "    <tr style=\"text-align: right;\">\n",
       "      <th></th>\n",
       "      <th>PassengerId</th>\n",
       "      <th>Pclass</th>\n",
       "      <th>Sex</th>\n",
       "      <th>Age</th>\n",
       "      <th>SibSp</th>\n",
       "      <th>Parch</th>\n",
       "      <th>Fare</th>\n",
       "      <th>Embarked</th>\n",
       "      <th>Title</th>\n",
       "      <th>Deck</th>\n",
       "      <th>CabinNumber</th>\n",
       "    </tr>\n",
       "  </thead>\n",
       "  <tbody>\n",
       "    <tr>\n",
       "      <th>0</th>\n",
       "      <td>892</td>\n",
       "      <td>3</td>\n",
       "      <td>male</td>\n",
       "      <td>34.5</td>\n",
       "      <td>0</td>\n",
       "      <td>0</td>\n",
       "      <td>7.8292</td>\n",
       "      <td>Q</td>\n",
       "      <td>Mr</td>\n",
       "      <td>N</td>\n",
       "      <td>47</td>\n",
       "    </tr>\n",
       "    <tr>\n",
       "      <th>1</th>\n",
       "      <td>893</td>\n",
       "      <td>3</td>\n",
       "      <td>female</td>\n",
       "      <td>47.0</td>\n",
       "      <td>1</td>\n",
       "      <td>0</td>\n",
       "      <td>7.0000</td>\n",
       "      <td>S</td>\n",
       "      <td>Mrs</td>\n",
       "      <td>N</td>\n",
       "      <td>47</td>\n",
       "    </tr>\n",
       "    <tr>\n",
       "      <th>2</th>\n",
       "      <td>894</td>\n",
       "      <td>2</td>\n",
       "      <td>male</td>\n",
       "      <td>62.0</td>\n",
       "      <td>0</td>\n",
       "      <td>0</td>\n",
       "      <td>9.6875</td>\n",
       "      <td>Q</td>\n",
       "      <td>Mr</td>\n",
       "      <td>N</td>\n",
       "      <td>47</td>\n",
       "    </tr>\n",
       "    <tr>\n",
       "      <th>3</th>\n",
       "      <td>895</td>\n",
       "      <td>3</td>\n",
       "      <td>male</td>\n",
       "      <td>27.0</td>\n",
       "      <td>0</td>\n",
       "      <td>0</td>\n",
       "      <td>8.6625</td>\n",
       "      <td>S</td>\n",
       "      <td>Mr</td>\n",
       "      <td>N</td>\n",
       "      <td>47</td>\n",
       "    </tr>\n",
       "    <tr>\n",
       "      <th>4</th>\n",
       "      <td>896</td>\n",
       "      <td>3</td>\n",
       "      <td>female</td>\n",
       "      <td>22.0</td>\n",
       "      <td>1</td>\n",
       "      <td>1</td>\n",
       "      <td>12.2875</td>\n",
       "      <td>S</td>\n",
       "      <td>Mrs</td>\n",
       "      <td>N</td>\n",
       "      <td>47</td>\n",
       "    </tr>\n",
       "  </tbody>\n",
       "</table>\n",
       "</div>"
      ],
      "text/plain": [
       "   PassengerId  Pclass     Sex   Age  SibSp  Parch     Fare Embarked Title  \\\n",
       "0          892       3    male  34.5      0      0   7.8292        Q    Mr   \n",
       "1          893       3  female  47.0      1      0   7.0000        S   Mrs   \n",
       "2          894       2    male  62.0      0      0   9.6875        Q    Mr   \n",
       "3          895       3    male  27.0      0      0   8.6625        S    Mr   \n",
       "4          896       3  female  22.0      1      1  12.2875        S   Mrs   \n",
       "\n",
       "  Deck  CabinNumber  \n",
       "0    N           47  \n",
       "1    N           47  \n",
       "2    N           47  \n",
       "3    N           47  \n",
       "4    N           47  "
      ]
     },
     "execution_count": 13,
     "metadata": {},
     "output_type": "execute_result"
    }
   ],
   "source": [
    "dataset_test_path = RAW_DATA_DIR / \"test.csv\"\n",
    "preprocced_test_path = preprocess_df(dataset_test_path)\n",
    "df_test = pd.read_csv(preprocced_test_path)\n",
    "df_test[\"Title\"].unique()\n",
    "\n",
    "df_test.head()"
   ]
  },
  {
   "cell_type": "code",
   "execution_count": null,
   "id": "c0576580",
   "metadata": {},
   "outputs": [
    {
     "data": {
      "text/html": [
       "<div>\n",
       "<style scoped>\n",
       "    .dataframe tbody tr th:only-of-type {\n",
       "        vertical-align: middle;\n",
       "    }\n",
       "\n",
       "    .dataframe tbody tr th {\n",
       "        vertical-align: top;\n",
       "    }\n",
       "\n",
       "    .dataframe thead th {\n",
       "        text-align: right;\n",
       "    }\n",
       "</style>\n",
       "<table border=\"1\" class=\"dataframe\">\n",
       "  <thead>\n",
       "    <tr style=\"text-align: right;\">\n",
       "      <th></th>\n",
       "      <th>PassengerId</th>\n",
       "      <th>Pclass</th>\n",
       "      <th>Sex</th>\n",
       "      <th>Age</th>\n",
       "      <th>SibSp</th>\n",
       "      <th>Parch</th>\n",
       "      <th>Fare</th>\n",
       "      <th>Embarked</th>\n",
       "      <th>Title</th>\n",
       "      <th>Deck</th>\n",
       "      <th>CabinNumber</th>\n",
       "    </tr>\n",
       "  </thead>\n",
       "  <tbody>\n",
       "    <tr>\n",
       "      <th>0</th>\n",
       "      <td>1</td>\n",
       "      <td>3</td>\n",
       "      <td>male</td>\n",
       "      <td>22.0</td>\n",
       "      <td>1</td>\n",
       "      <td>0</td>\n",
       "      <td>7.2500</td>\n",
       "      <td>S</td>\n",
       "      <td>Mr</td>\n",
       "      <td>N</td>\n",
       "      <td>50</td>\n",
       "    </tr>\n",
       "    <tr>\n",
       "      <th>1</th>\n",
       "      <td>2</td>\n",
       "      <td>1</td>\n",
       "      <td>female</td>\n",
       "      <td>38.0</td>\n",
       "      <td>1</td>\n",
       "      <td>0</td>\n",
       "      <td>71.2833</td>\n",
       "      <td>C</td>\n",
       "      <td>Mrs</td>\n",
       "      <td>C</td>\n",
       "      <td>85</td>\n",
       "    </tr>\n",
       "    <tr>\n",
       "      <th>2</th>\n",
       "      <td>3</td>\n",
       "      <td>3</td>\n",
       "      <td>female</td>\n",
       "      <td>26.0</td>\n",
       "      <td>0</td>\n",
       "      <td>0</td>\n",
       "      <td>7.9250</td>\n",
       "      <td>S</td>\n",
       "      <td>Miss</td>\n",
       "      <td>N</td>\n",
       "      <td>50</td>\n",
       "    </tr>\n",
       "    <tr>\n",
       "      <th>3</th>\n",
       "      <td>4</td>\n",
       "      <td>1</td>\n",
       "      <td>female</td>\n",
       "      <td>35.0</td>\n",
       "      <td>1</td>\n",
       "      <td>0</td>\n",
       "      <td>53.1000</td>\n",
       "      <td>S</td>\n",
       "      <td>Mrs</td>\n",
       "      <td>C</td>\n",
       "      <td>123</td>\n",
       "    </tr>\n",
       "    <tr>\n",
       "      <th>4</th>\n",
       "      <td>5</td>\n",
       "      <td>3</td>\n",
       "      <td>male</td>\n",
       "      <td>35.0</td>\n",
       "      <td>0</td>\n",
       "      <td>0</td>\n",
       "      <td>8.0500</td>\n",
       "      <td>S</td>\n",
       "      <td>Mr</td>\n",
       "      <td>N</td>\n",
       "      <td>50</td>\n",
       "    </tr>\n",
       "  </tbody>\n",
       "</table>\n",
       "</div>"
      ],
      "text/plain": [
       "   PassengerId  Pclass     Sex   Age  SibSp  Parch     Fare Embarked Title  \\\n",
       "0            1       3    male  22.0      1      0   7.2500        S    Mr   \n",
       "1            2       1  female  38.0      1      0  71.2833        C   Mrs   \n",
       "2            3       3  female  26.0      0      0   7.9250        S  Miss   \n",
       "3            4       1  female  35.0      1      0  53.1000        S   Mrs   \n",
       "4            5       3    male  35.0      0      0   8.0500        S    Mr   \n",
       "\n",
       "  Deck  CabinNumber  \n",
       "0    N           50  \n",
       "1    C           85  \n",
       "2    N           50  \n",
       "3    C          123  \n",
       "4    N           50  "
      ]
     },
     "execution_count": 14,
     "metadata": {},
     "output_type": "execute_result"
    }
   ],
   "source": [
    "df_train.head()"
   ]
  },
  {
   "cell_type": "markdown",
   "id": "bae031a2",
   "metadata": {},
   "source": [
    "Get predictions and shap plot:"
   ]
  },
  {
   "cell_type": "code",
   "execution_count": null,
   "id": "3f9e330a",
   "metadata": {},
   "outputs": [
    {
     "ename": "NameError",
     "evalue": "name 'model_params_path' is not defined",
     "output_type": "error",
     "traceback": [
      "\u001b[31m---------------------------------------------------------------------------\u001b[39m",
      "\u001b[31mNameError\u001b[39m                                 Traceback (most recent call last)",
      "\u001b[36mCell\u001b[39m\u001b[36m \u001b[39m\u001b[32mIn[15]\u001b[39m\u001b[32m, line 4\u001b[39m\n\u001b[32m      1\u001b[39m \u001b[38;5;28;01mfrom\u001b[39;00m\u001b[38;5;250m \u001b[39m\u001b[34;01mARISA_DSML\u001b[39;00m\u001b[34;01m.\u001b[39;00m\u001b[34;01mpredict\u001b[39;00m\u001b[38;5;250m \u001b[39m\u001b[38;5;28;01mimport\u001b[39;00m predict\n\u001b[32m      2\u001b[39m \u001b[38;5;28;01mfrom\u001b[39;00m\u001b[38;5;250m \u001b[39m\u001b[34;01mcatboost\u001b[39;00m\u001b[38;5;250m \u001b[39m\u001b[38;5;28;01mimport\u001b[39;00m CatBoostClassifier\n\u001b[32m----> \u001b[39m\u001b[32m4\u001b[39m params = joblib.load(\u001b[43mmodel_params_path\u001b[49m)\n\u001b[32m      5\u001b[39m display(params)\n\u001b[32m      6\u001b[39m from_file = CatBoostClassifier()\n",
      "\u001b[31mNameError\u001b[39m: name 'model_params_path' is not defined"
     ]
    }
   ],
   "source": [
    "from ARISA_DSML.predict import predict\n",
    "from catboost import CatBoostClassifier\n",
    "\n",
    "params = joblib.load(model_params_path)\n",
    "display(params)\n",
    "from_file = CatBoostClassifier()\n",
    "model = from_file.load_model(str(model_path))\n",
    "preds_path = predict(model, df_test, params)\n"
   ]
  },
  {
   "cell_type": "markdown",
   "id": "75af8422",
   "metadata": {},
   "source": [
    "And that's it for the refactor.  \n",
    "As can be seen from the notebook, the goal is to have as little code as possible in the actual notebook cells,  \n",
    "which makes it much easier to maintain and, as we will see shortly, productionalize."
   ]
  }
 ],
 "metadata": {
  "kernelspec": {
   "display_name": ".venv",
   "language": "python",
   "name": "python3"
  },
  "language_info": {
   "codemirror_mode": {
    "name": "ipython",
    "version": 3
   },
   "file_extension": ".py",
   "mimetype": "text/x-python",
   "name": "python",
   "nbconvert_exporter": "python",
   "pygments_lexer": "ipython3",
   "version": "3.11.9"
  }
 },
 "nbformat": 4,
 "nbformat_minor": 5
}
